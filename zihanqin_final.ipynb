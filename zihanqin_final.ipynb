{
  "cells": [
    {
      "cell_type": "markdown",
      "metadata": {
        "id": "view-in-github",
        "colab_type": "text"
      },
      "source": [
        "<a href=\"https://colab.research.google.com/github/zihan-qin/repos1/blob/master/zihanqin_final.ipynb\" target=\"_parent\"><img src=\"https://colab.research.google.com/assets/colab-badge.svg\" alt=\"Open In Colab\"/></a>"
      ]
    },
    {
      "cell_type": "code",
      "execution_count": null,
      "metadata": {
        "id": "ocYLfZksvAd2"
      },
      "outputs": [],
      "source": [
        "import pandas as pd\n",
        "import numpy as np\n",
        "import keras\n",
        "import os\n",
        "import string\n",
        "import seaborn as sns\n",
        "import matplotlib.pyplot as plt\n",
        "from keras.preprocessing.sequence import pad_sequences\n",
        "from keras import layers\n",
        "from sklearn.metrics import accuracy_score"
      ]
    },
    {
      "cell_type": "markdown",
      "source": [
        "(a) In this problem, we are trying to build a classifier to analyze the sentiment of reviews. You are provided with text data in two folders: one folder involves positive reviews, and one folder involves negative reviews.\n",
        "\n",
        "(b) Data Exploration and Pre-processing\n",
        "\n",
        "i. You can use binary encoding for the sentiments , i.e y = 1 for positive sentiments and y = −1 for negative sentiments.\n",
        "\n",
        "\n",
        "iii. The name of each text file starts with cv number. Use text files 0-699 in each class for training and 700-999 for testing."
      ],
      "metadata": {
        "id": "BfEZlAu7Bg8U"
      }
    },
    {
      "cell_type": "code",
      "execution_count": null,
      "metadata": {
        "id": "lNgdmV8ZtMcl"
      },
      "outputs": [],
      "source": [
        "#trainset = pd.DataFrame(columns=['content','class'])\n",
        "#testset = pd.DataFrame(columns=['content','class'])\n",
        "trainset = []\n",
        "testset = []\n",
        "path = \"./drive/MyDrive/Final_project/Data/neg/\"\n",
        "for i in os.listdir(path):\n",
        "  if int(i[2:5]) <= 999 and int(i[2:5]) >=700: \n",
        "    with open(path+i,'r') as f:\n",
        "      testset.append([f.read(),-1])\n",
        "#    testset = testset.append(tmp)\n",
        "  else:\n",
        "    with open(path+i,'r') as f:\n",
        "      trainset.append([f.read(),-1])\n",
        "#    trainset = trainset.append(tmp)\n",
        "path = \"./drive/MyDrive/Final_project/Data/pos/\"\n",
        "for i in os.listdir(path):\n",
        "  if int(i[2:5]) <= 999 and int(i[2:5]) >=700: \n",
        "    with open(path+i,'r') as f:\n",
        "      testset.append([f.read(),1])\n",
        "#    testset = testset.append(tmp)\n",
        "  else:\n",
        "    with open(path+i,'r') as f:\n",
        "      trainset.append([f.read(),1])\n",
        " #   trainset = trainset.append(tmp)"
      ]
    },
    {
      "cell_type": "code",
      "source": [
        "trainset = pd.DataFrame(trainset,columns=['content','class'])\n",
        "testset = pd.DataFrame(testset,columns=['content','class'])"
      ],
      "metadata": {
        "id": "sZP1ImdSDPEQ"
      },
      "execution_count": null,
      "outputs": []
    },
    {
      "cell_type": "markdown",
      "source": [
        "ii. The data are pretty clean. Remove the punctuation and numbers from the data.\n"
      ],
      "metadata": {
        "id": "htQ1Oq8Rt83O"
      }
    },
    {
      "cell_type": "code",
      "execution_count": null,
      "metadata": {
        "id": "tHoqLPaQ0jlu"
      },
      "outputs": [],
      "source": [
        "def data_pre(dataset):\n",
        "  dataset.index = range(len(dataset))\n",
        "  for i in range(len(dataset)):\n",
        "    tmp = dataset.loc[i,'content']\n",
        "    tmp = tmp.translate(str.maketrans('','',string.punctuation))\n",
        "    tmp = tmp.translate(str.maketrans('','',string.digits))\n",
        "    tmp = tmp.translate(str.maketrans('\\n',' '))\n",
        "    tmp = tmp.translate(str.maketrans('\\t',' '))\n",
        "    dataset.loc[i,'content'] = tmp"
      ]
    },
    {
      "cell_type": "code",
      "execution_count": null,
      "metadata": {
        "id": "6bUm7gY35iVB"
      },
      "outputs": [],
      "source": [
        "data_pre(trainset)\n",
        "data_pre(testset)"
      ]
    },
    {
      "cell_type": "markdown",
      "source": [
        "iv. Count the number of unique words in the whole dataset (train + test) and print it out.\n",
        "\n",
        "v. Calculate the average review length and the standard deviation of review lengths. Report the results."
      ],
      "metadata": {
        "id": "M9YkwE3HuNXQ"
      }
    },
    {
      "cell_type": "code",
      "execution_count": null,
      "metadata": {
        "colab": {
          "base_uri": "https://localhost:8080/"
        },
        "id": "my5jasY4tKd9",
        "outputId": "0329a566-b0f8-4529-aaed-3db39426140f"
      },
      "outputs": [
        {
          "output_type": "stream",
          "name": "stdout",
          "text": [
            "unique words count:46830.\n",
            "avg review length:644.36.\n",
            "std review length:284.98\n"
          ]
        }
      ],
      "source": [
        "word_frec = {}\n",
        "review_len = []\n",
        "for i in trainset['content']:\n",
        "  tmp = i.split()\n",
        "  review_len.append(len(tmp))\n",
        "  for word in tmp:\n",
        "    word_frec[word] = word_frec.get(word,0) + 1\n",
        "for i in testset['content']:\n",
        "  tmp = i.split()\n",
        "  review_len.append(len(tmp))\n",
        "  for word in tmp:\n",
        "    word_frec[word] = word_frec.get(word,0) + 1\n",
        "print(\"unique words count:%d.\"%len(word_frec))\n",
        "print(\"avg review length:%.2f.\"%np.mean(review_len))\n",
        "print(\"std review length:%.2f.\"%np.std(review_len))"
      ]
    },
    {
      "cell_type": "markdown",
      "source": [
        "ans:\n",
        "\n",
        "iv: The number of unique words in the whole dataset is 46830.\n",
        "\n",
        "v: The average review lengths is 644, the standard deviation of review lengths is 284.98."
      ],
      "metadata": {
        "id": "ls26FQLeI1Pd"
      }
    },
    {
      "cell_type": "markdown",
      "source": [
        "vi. Plot the histogram of review lengths."
      ],
      "metadata": {
        "id": "yoExGD0awiFS"
      }
    },
    {
      "cell_type": "code",
      "execution_count": null,
      "metadata": {
        "colab": {
          "base_uri": "https://localhost:8080/",
          "height": 313
        },
        "id": "qIHyz467OHBz",
        "outputId": "5f9bb4e3-939e-481e-e35a-dae8d34e0845"
      },
      "outputs": [
        {
          "output_type": "execute_result",
          "data": {
            "text/plain": [
              "Text(0.5, 0, 'length')"
            ]
          },
          "metadata": {},
          "execution_count": 7
        },
        {
          "output_type": "display_data",
          "data": {
            "text/plain": [
              "<Figure size 432x288 with 1 Axes>"
            ],
            "image/png": "[encoded data removed]"
          },
          "metadata": {
            "needs_background": "light"
          }
        }
      ],
      "source": [
        "sns.histplot(review_len)\n",
        "plt.title('review lengths distribution')\n",
        "plt.xlabel('length')"
      ]
    },
    {
      "cell_type": "markdown",
      "source": [
        "vii. To represent each text (= data point), there are many ways. In NLP/Deep Learning terminology, this task is called tokenization. It is common to represent text using popularity / rank of words in text. The most common word in the text will be represented as 1, the second most common word will be represented as 2, etc. Tokenize each text document using this method."
      ],
      "metadata": {
        "id": "crNC-CFjwqhO"
      }
    },
    {
      "cell_type": "code",
      "execution_count": null,
      "metadata": {
        "id": "nyZY5yJLWJXe"
      },
      "outputs": [],
      "source": [
        "token = keras.preprocessing.text.Tokenizer(num_words=5000,lower=True,split=' ')\n",
        "token.fit_on_texts(trainset['content'])"
      ]
    },
    {
      "cell_type": "code",
      "execution_count": null,
      "metadata": {
        "id": "vNExIx-kZPXE"
      },
      "outputs": [],
      "source": [
        "train_token = token.texts_to_sequences(trainset['content'])\n",
        "test_token = token.texts_to_sequences(testset['content'])"
      ]
    },
    {
      "cell_type": "markdown",
      "source": [
        "viii. Select a review length L that 70% of the reviews have a length below it. If you feel more adventurous, set the threshold to 90%.\n",
        "\n",
        "ix. Truncate reviews longer than L words and zero-pad reviews shorter than L so that all texts (= data points) are of length L."
      ],
      "metadata": {
        "id": "lFpzXNb0w05K"
      }
    },
    {
      "cell_type": "code",
      "execution_count": null,
      "metadata": {
        "id": "0aaXDq5qZaAp"
      },
      "outputs": [],
      "source": [
        "tok_len = int(np.quantile(review_len,0.7))\n",
        "train_pad = pad_sequences(train_token,maxlen=tok_len,padding='pre',truncating='post',value=0)\n",
        "test_pad = pad_sequences(test_token,maxlen=tok_len,padding='pre',truncating='post',value=0)"
      ]
    },
    {
      "cell_type": "code",
      "execution_count": null,
      "metadata": {
        "id": "Go1vvbC69lha"
      },
      "outputs": [],
      "source": [
        "train_y = trainset['class'].values\n",
        "train_y[np.where(train_y == -1)] = 0\n"
      ]
    },
    {
      "cell_type": "markdown",
      "source": [
        "\n",
        "(d)\n",
        "\n",
        "i. Train a MLP with three (dense) hidden layers each of which has 50 ReLUs and one output layer with a single sigmoid neuron. Use a dropout rate of 20% for the first layer and 50% for the other layers. Use ADAM optimizer and binary cross entropy loss (which is equivalent to having a softmax in the output). To avoid overfitting, just set the number of epochs as 2. Use a batch size of 10.\n",
        "\n",
        "ii. Report the train and test accuracies of this model."
      ],
      "metadata": {
        "id": "Cjaa3S2GxEyD"
      }
    },
    {
      "cell_type": "code",
      "execution_count": null,
      "metadata": {
        "id": "GaEiWfxBRKgB"
      },
      "outputs": [],
      "source": [
        "def MLP_model():\n",
        "  model = keras.Sequential()\n",
        "  #model.add(layers.Input())\n",
        "  model.add(layers.Embedding(5000,32,input_length=tok_len))\n",
        "  model.add(layers.Flatten())\n",
        "  model.add(layers.Dense(50,activation='relu'))\n",
        "  model.add(layers.Dropout(0.2))\n",
        "  model.add(layers.Dense(50,activation='relu'))\n",
        "  model.add(layers.Dropout(0.5))\n",
        "  model.add(layers.Dense(50,activation='relu'))\n",
        "  model.add(layers.Dropout(0.5))\n",
        "  model.add(layers.Dense(1,activation='sigmoid'))\n",
        "  model.compile(loss='binary_crossentropy',optimizer='adam')\n",
        "  return model"
      ]
    },
    {
      "cell_type": "code",
      "execution_count": null,
      "metadata": {
        "colab": {
          "base_uri": "https://localhost:8080/"
        },
        "id": "FyZnGiY86DRF",
        "outputId": "f3e02a04-9aec-45ac-8cd1-dec06a03fac7"
      },
      "outputs": [
        {
          "output_type": "stream",
          "name": "stdout",
          "text": [
            "Epoch 1/2\n",
            "140/140 - 3s - loss: 0.6982 - 3s/epoch - 19ms/step\n",
            "Epoch 2/2\n",
            "140/140 - 1s - loss: 0.6606 - 689ms/epoch - 5ms/step\n"
          ]
        },
        {
          "output_type": "execute_result",
          "data": {
            "text/plain": [
              "<keras.callbacks.History at 0x7f27af22bc90>"
            ]
          },
          "metadata": {},
          "execution_count": 13
        }
      ],
      "source": [
        "model = MLP_model()\n",
        "model.fit(train_pad,train_y,epochs=2,batch_size=10,verbose=2)"
      ]
    },
    {
      "cell_type": "code",
      "execution_count": null,
      "metadata": {
        "id": "RW6WrIwj8l3x"
      },
      "outputs": [],
      "source": [
        "test_y = testset['class'].values\n",
        "test_y[np.where(test_y == -1)] = 0"
      ]
    },
    {
      "cell_type": "code",
      "execution_count": null,
      "metadata": {
        "colab": {
          "base_uri": "https://localhost:8080/"
        },
        "id": "ZLVVgUEx7QG0",
        "outputId": "eef038f7-1197-4ec0-b0bc-db19d3ab4af1"
      },
      "outputs": [
        {
          "output_type": "stream",
          "name": "stdout",
          "text": [
            "The training accuracy is:0.85, the testing accuracy is 0.61.\n"
          ]
        }
      ],
      "source": [
        "pred_train = model.predict(train_pad,verbose=0)\n",
        "pred_train = np.where(pred_train<0.5,0,1)\n",
        "train_acc = accuracy_score(train_y,pred_train)\n",
        "\n",
        "pred_test = model.predict(test_pad,verbose=0)\n",
        "pred_test = np.where(pred_test<0.5,0,1).ravel()\n",
        "test_acc = accuracy_score(test_y,pred_test)\n",
        "print('The training accuracy is:%.2f, the testing accuracy is %.2f.'%(train_acc,test_acc))"
      ]
    },
    {
      "cell_type": "markdown",
      "source": [
        "The training accuracy is:0.85, the testing accuracy is 0.61."
      ],
      "metadata": {
        "id": "Xcdk4ulSJPwc"
      }
    },
    {
      "cell_type": "markdown",
      "source": [
        "(e) One-Dimensional Convolutional Neural Network:\n",
        "\n",
        "Although CNNs are mainly used for image data, they can also be applied to text data, as text also has adjacency information. Keras supports one-dimensional convolutions and pooling by the Conv1D and MaxPooling1D classes respectively.\n",
        "\n",
        "\n",
        "i. After the embedding layer, insert a Conv1D layer. This convolutional layer has 32 feature maps , and each of the 32 kernels has size 3, i.e. reads embedded word representations 3 vector elements of the word embedding at a time. The convolutional layer is followed by a 1D max pooling layer with a length and stride of 2 that halves the size of the feature maps from the convolutional layer. The rest of the network is the same as the neural network above.\n",
        "\n",
        "\n",
        "ii. Report the train and test accuracies of this model."
      ],
      "metadata": {
        "id": "5m9oAI0CxSz9"
      }
    },
    {
      "cell_type": "code",
      "execution_count": null,
      "metadata": {
        "id": "Ta0K9tPeJgW1"
      },
      "outputs": [],
      "source": [
        "def CNN1D_model():\n",
        "  model = keras.Sequential()\n",
        "  model.add(layers.Embedding(5000,32,input_length=tok_len))\n",
        "#  model.add(layers.Flatten())\n",
        "  model.add(layers.Conv1D(filters=32,kernel_size=3))\n",
        "  model.add(layers.MaxPooling1D(pool_size=2,strides=2))\n",
        "  model.add(layers.Flatten())\n",
        "  model.add(layers.Dense(50,activation='relu'))\n",
        "  model.add(layers.Dropout(0.2))\n",
        "  model.add(layers.Dense(50,activation='relu'))\n",
        "  model.add(layers.Dropout(0.5))\n",
        "  model.add(layers.Dense(50,activation='relu'))\n",
        "  model.add(layers.Dropout(0.5))\n",
        "  model.add(layers.Dense(1,activation='sigmoid'))\n",
        "  model.compile(loss='binary_crossentropy',optimizer='adam')\n",
        "  return model\n",
        "\n"
      ]
    },
    {
      "cell_type": "code",
      "execution_count": null,
      "metadata": {
        "colab": {
          "base_uri": "https://localhost:8080/"
        },
        "id": "lylTbzZdPMnx",
        "outputId": "0e750ead-d20b-4df6-8731-c4d19b72f1c9"
      },
      "outputs": [
        {
          "output_type": "stream",
          "name": "stdout",
          "text": [
            "Epoch 1/2\n",
            "140/140 - 5s - loss: 0.6982 - 5s/epoch - 35ms/step\n",
            "Epoch 2/2\n",
            "140/140 - 1s - loss: 0.6953 - 780ms/epoch - 6ms/step\n"
          ]
        },
        {
          "output_type": "execute_result",
          "data": {
            "text/plain": [
              "<keras.callbacks.History at 0x7f27a01b0c10>"
            ]
          },
          "metadata": {},
          "execution_count": 17
        }
      ],
      "source": [
        "model2 = CNN1D_model()\n",
        "model2.fit(train_pad,train_y,epochs=2,batch_size=10,verbose=2)"
      ]
    },
    {
      "cell_type": "code",
      "execution_count": null,
      "metadata": {
        "colab": {
          "base_uri": "https://localhost:8080/"
        },
        "id": "0w4b0L76XxOi",
        "outputId": "f170e047-8704-4982-eee4-14ea7c39a110"
      },
      "outputs": [
        {
          "output_type": "stream",
          "name": "stdout",
          "text": [
            "The training accuracy is:0.63, the testing accuracy is 0.53.\n"
          ]
        }
      ],
      "source": [
        "pred_train2 = model2.predict(train_pad,verbose=0)\n",
        "pred_train2 = np.where(pred_train2<0.5,0,1).ravel()\n",
        "train_acc2 = accuracy_score(train_y,pred_train2)\n",
        "\n",
        "pred_test2 = model2.predict(test_pad,verbose=0)\n",
        "pred_test2 = np.where(pred_test2<0.5,0,1).ravel()\n",
        "test_acc2 = accuracy_score(test_y,pred_test2)\n",
        "\n",
        "print('The training accuracy is:%.2f, the testing accuracy is %.2f.'%(train_acc2,test_acc2))"
      ]
    },
    {
      "cell_type": "markdown",
      "source": [
        "The training accuracy is:0.63, the testing accuracy is 0.53."
      ],
      "metadata": {
        "id": "6akGixtsJSRz"
      }
    },
    {
      "cell_type": "markdown",
      "source": [
        "(f) Long Short-Term Memory Recurrent Neural Network:\n",
        "The structure of the LSTM we are going to use is shown in the following figure.\n",
        "\n",
        "\n",
        "i. Each word is represented to LSTM as a vector of 32 elements and the LSTM is followed by a dense layer of 256 ReLUs. Use a dropout rate of 0.2 for both LSTM and the dense layer. Train the model using 10-50 epochs and batch size of 10.\n",
        "\n",
        "\n",
        "ii. Report the train and test accuracies of this model."
      ],
      "metadata": {
        "id": "McHJ8sOMxcvx"
      }
    },
    {
      "cell_type": "code",
      "execution_count": null,
      "metadata": {
        "id": "j2KWrhMSX0gI"
      },
      "outputs": [],
      "source": [
        "def LSTM_model():\n",
        "  model = keras.Sequential()\n",
        "  model.add(layers.Embedding(5000,32,input_length=tok_len))\n",
        "  model.add(layers.LSTM(256,dropout=0.2))\n",
        "  model.add(layers.Dense(256,activation='relu'))\n",
        "  model.add(layers.Dropout(0.5))\n",
        "  model.add(layers.Dense(1,activation='sigmoid'))\n",
        "  model.compile(loss='binary_crossentropy',optimizer='adam')\n",
        "  return model"
      ]
    },
    {
      "cell_type": "code",
      "execution_count": null,
      "metadata": {
        "colab": {
          "base_uri": "https://localhost:8080/"
        },
        "id": "q07ZNGA5Q_Tf",
        "outputId": "8a917be0-13f9-4970-e2f8-874eb8e68a1e"
      },
      "outputs": [
        {
          "output_type": "stream",
          "name": "stdout",
          "text": [
            "Epoch 1/10\n",
            "140/140 - 7s - loss: 0.6932 - 7s/epoch - 52ms/step\n",
            "Epoch 2/10\n",
            "140/140 - 4s - loss: 0.6450 - 4s/epoch - 27ms/step\n",
            "Epoch 3/10\n",
            "140/140 - 4s - loss: 0.4160 - 4s/epoch - 27ms/step\n",
            "Epoch 4/10\n",
            "140/140 - 4s - loss: 0.1855 - 4s/epoch - 26ms/step\n",
            "Epoch 5/10\n",
            "140/140 - 4s - loss: 0.0668 - 4s/epoch - 26ms/step\n",
            "Epoch 6/10\n",
            "140/140 - 4s - loss: 0.0482 - 4s/epoch - 26ms/step\n",
            "Epoch 7/10\n",
            "140/140 - 4s - loss: 0.0402 - 4s/epoch - 28ms/step\n",
            "Epoch 8/10\n",
            "140/140 - 4s - loss: 0.0220 - 4s/epoch - 28ms/step\n",
            "Epoch 9/10\n",
            "140/140 - 4s - loss: 0.0229 - 4s/epoch - 26ms/step\n",
            "Epoch 10/10\n",
            "140/140 - 4s - loss: 0.0125 - 4s/epoch - 28ms/step\n"
          ]
        },
        {
          "output_type": "execute_result",
          "data": {
            "text/plain": [
              "<keras.callbacks.History at 0x7f2732267510>"
            ]
          },
          "metadata": {},
          "execution_count": 20
        }
      ],
      "source": [
        "model3 = LSTM_model()\n",
        "model3.fit(train_pad,train_y,epochs=10,batch_size=10,verbose=2)"
      ]
    },
    {
      "cell_type": "code",
      "execution_count": null,
      "metadata": {
        "colab": {
          "base_uri": "https://localhost:8080/"
        },
        "id": "mO9EO3WZXizb",
        "outputId": "42839508-856b-4d61-a972-7850022c87c8"
      },
      "outputs": [
        {
          "output_type": "stream",
          "name": "stdout",
          "text": [
            "The training accuracy is:1.00, the testing accuracy is 0.66.\n"
          ]
        }
      ],
      "source": [
        "pred_train3 = model3.predict(train_pad,verbose=0)\n",
        "pred_train3 = np.where(pred_train3<0.5,0,1).ravel()\n",
        "train_acc3 = accuracy_score(train_y,pred_train3)\n",
        "\n",
        "pred_test3 = model3.predict(test_pad,verbose=0)\n",
        "pred_test3 = np.where(pred_test3<0.5,0,1).ravel()\n",
        "test_acc3 = accuracy_score(test_y,pred_test3)\n",
        "\n",
        "print('The training accuracy is:%.2f, the testing accuracy is %.2f.'%(train_acc3,test_acc3))"
      ]
    },
    {
      "cell_type": "markdown",
      "source": [
        "The training accuracy is:1.00, the testing accuracy is 0.66."
      ],
      "metadata": {
        "id": "--z1mejqJW7P"
      }
    }
  ],
  "metadata": {
    "accelerator": "GPU",
    "colab": {
      "name": "zihanqin_final.ipynb",
      "provenance": [],
      "collapsed_sections": [],
      "mount_file_id": "1aZvnvmlCU4QuZthYyk3MibXcpTB64otR",
      "authorship_tag": "ABX9TyOMDgvJDupJwMkUC7KyWRjf",
      "include_colab_link": true
    },
    "kernelspec": {
      "display_name": "Python 3",
      "name": "python3"
    },
    "language_info": {
      "name": "python"
    }
  },
  "nbformat": 4,
  "nbformat_minor": 0
}