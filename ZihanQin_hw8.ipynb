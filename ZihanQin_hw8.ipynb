{
 "cells": [
  {
   "cell_type": "code",
   "execution_count": 1,
   "metadata": {},
   "outputs": [],
   "source": [
    "import pandas as pd\n",
    "import numpy as np\n",
    "from sklearn.model_selection import train_test_split,GridSearchCV,StratifiedKFold\n",
    "from sklearn.metrics import accuracy_score,precision_score,recall_score,f1_score,roc_auc_score,roc_curve,confusion_matrix,RocCurveDisplay\n",
    "from sklearn.svm import LinearSVC\n",
    "from sklearn.preprocessing import Normalizer,label_binarize\n",
    "from sklearn.pipeline import Pipeline\n",
    "from sklearn.cluster import KMeans,SpectralClustering\n",
    "import matplotlib.pyplot as plt\n",
    "import seaborn as sns\n",
    "from tqdm import trange\n",
    "import warnings\n",
    "warnings.filterwarnings('ignore')"
   ]
  },
  {
   "cell_type": "markdown",
   "metadata": {},
   "source": [
    "\n",
    "(a) Download the Breast Cancer Wisconsin (Diagnostic) Data Set from:\n",
    "https://archive.ics.uci.edu/ml/datasets/Breast+Cancer+Wisconsin+%28Diagnostic%29. Download the data in https://archive.ics.uci.edu/ml/machine-learning-databases/breast-cancer-wisconsin/wdbc.data, which has IDs, classes (Benign=B, Malignant=M), and 30 attributes. This data has two output classes.\n"
   ]
  },
  {
   "cell_type": "code",
   "execution_count": 2,
   "metadata": {},
   "outputs": [],
   "source": [
    "wdbc = pd.read_csv('../Data/wdbc.data',header=None)\n",
    "wdbc_label = wdbc[1]\n",
    "wdbc_label = label_binarize(wdbc_label,classes=['B','M'])\n",
    "wdbc = wdbc.drop([1],axis=1)\n"
   ]
  },
  {
   "cell_type": "markdown",
   "metadata": {},
   "source": [
    "(b) Monte-Carlo Simulation: Repeat the following procedures for supervised, unsupervised, and semi-supervised learning M = 30 times, and use randomly selected train and test data (make sure you use 20% of both the positve and negative classes as the test set). Then compare the average scores (accuracy, precision, recall, F1-score, and AUC) that you obtain from each algorithm.\n",
    "\n",
    "i. Supervised Learning: Train an L1-penalized SVM to classify the data. Use 5 fold cross validation to choose the penalty parameter. Use normalized data. Report the average accuracy, precision, recall, F1-score, and AUC, for both training and test sets over your M runs. Plot the ROC and report the confusion matrix for training and testing in one of the runs.\n"
   ]
  },
  {
   "cell_type": "code",
   "execution_count": 3,
   "metadata": {},
   "outputs": [],
   "source": [
    "def plot_metrics(y_train,train_pred,y_test,test_pred):\n",
    "    fpr, tpr, threshold = roc_curve(y_train,train_pred)\n",
    "    cm = confusion_matrix(y_train,train_pred)\n",
    "    print(\"train set's confusion matrix:\",'\\n',cm)\n",
    "    auc_score = roc_auc_score(y_train,train_pred)\n",
    "    RocCurveDisplay(fpr=fpr,tpr=tpr,roc_auc=auc_score).plot()\n",
    "    plt.title('the ROC curve and AUC of training set')\n",
    "\n",
    "    fpr, tpr, threshold = roc_curve(y_test,test_pred)\n",
    "    cm = confusion_matrix(y_test,test_pred)\n",
    "    print(\"test set's confusion matrix:\",'\\n',cm)\n",
    "    auc_score = roc_auc_score(y_test,test_pred)\n",
    "    RocCurveDisplay(fpr=fpr,tpr=tpr,roc_auc=auc_score).plot()\n",
    "    plt.title('the ROC curve and AUC of test set')"
   ]
  },
  {
   "cell_type": "code",
   "execution_count": 4,
   "metadata": {},
   "outputs": [],
   "source": [
    "def metrics_record(model,y_train,train_pred,y_test,test_pred):\n",
    "    acc_train = accuracy_score(y_train,train_pred)\n",
    "    prec_train = precision_score(y_train,train_pred)\n",
    "    rec_train = recall_score(y_train,train_pred)\n",
    "    f1_train = f1_score(y_train,train_pred)\n",
    "    auc_train = roc_auc_score(y_train,train_pred)\n",
    "    model['train']['acc'] = model['train'].get('acc',[])+[acc_train]\n",
    "    model['train']['prec'] = model['train'].get('prec',[])+[prec_train]\n",
    "    model['train']['rec'] = model['train'].get('rec',[])+[rec_train]\n",
    "    model['train']['f1'] = model['train'].get('f1',[])+[f1_train]\n",
    "    model['train']['auc'] = model['train'].get('auc',[])+[auc_train]\n",
    "\n",
    "    acc_test = accuracy_score(y_test,test_pred)\n",
    "    prec_test = precision_score(y_test,test_pred)\n",
    "    rec_test = recall_score(y_test,test_pred)\n",
    "    f1_test = f1_score(y_test,test_pred)\n",
    "    auc_test = roc_auc_score(y_test,test_pred)\n",
    "    model['test']['acc'] = model['test'].get('acc',[])+[acc_test]\n",
    "    model['test']['prec'] = model['test'].get('prec',[])+[prec_test]\n",
    "    model['test']['rec'] = model['test'].get('rec',[])+[rec_test]\n",
    "    model['test']['f1'] = model['test'].get('f1',[])+[f1_test]\n",
    "    model['test']['auc'] = model['test'].get('auc',[])+[auc_test]"
   ]
  },
  {
   "cell_type": "code",
   "execution_count": 5,
   "metadata": {},
   "outputs": [
    {
     "name": "stderr",
     "output_type": "stream",
     "text": [
      "100%|██████████| 30/30 [00:12<00:00,  2.45it/s]\n"
     ]
    },
    {
     "name": "stdout",
     "output_type": "stream",
     "text": [
      "train set's confusion matrix: \n",
      " [[283   2]\n",
      " [ 38 132]]\n",
      "test set's confusion matrix: \n",
      " [[71  1]\n",
      " [11 31]]\n",
      "{'train': {'acc': 0.9142857142857144, 'prec': 0.9851777360306005, 'rec': 0.7821568627450979, 'f1': 0.871319709031997, 'auc': 0.8876281389748881}, 'test': {'acc': 0.899122807017544, 'prec': 0.949863665400753, 'rec': 0.7682539682539681, 'f1': 0.8475744430484329, 'auc': 0.8718584656084656}}\n"
     ]
    },
    {
     "data": {
      "image/png": "[encoded data removed]",
      "text/plain": [
       "<Figure size 432x288 with 1 Axes>"
      ]
     },
     "metadata": {
      "needs_background": "light"
     },
     "output_type": "display_data"
    },
    {
     "data": {
      "image/png": "[encoded data removed]",
      "text/plain": [
       "<Figure size 432x288 with 1 Axes>"
      ]
     },
     "metadata": {
      "needs_background": "light"
     },
     "output_type": "display_data"
    }
   ],
   "source": [
    "\n",
    "metrics = {}\n",
    "best = []\n",
    "l1svc = {'train':{},'test':{}}\n",
    "for i in trange(30):\n",
    "    x_train, x_test, y_train, y_test = train_test_split(wdbc,wdbc_label,test_size=0.2,stratify=wdbc_label)\n",
    "    norm = Normalizer()\n",
    "    svm = LinearSVC(penalty='l1',dual=False)\n",
    "    pip = Pipeline([('scaler',Normalizer()),('svc',svm)])\n",
    "    param = {'svc__C':[1e15,1e16,1e17,1e18]}\n",
    "    cv = GridSearchCV(pip,param,cv=5)\n",
    "    cv = cv.fit(x_train,y_train)\n",
    "    best.append(cv.best_params_['svc__C'])\n",
    "    pred_cv = cv.predict(x_test)\n",
    "    pred_train = cv.predict(x_train)\n",
    "    metrics_record(l1svc,y_train,pred_train,y_test,pred_cv)\n",
    "\n",
    "plot_metrics(y_train,pred_train,y_test,pred_cv)\n",
    "\n",
    "for i in l1svc['train']:\n",
    "    l1svc['train'][i] = np.mean(l1svc['train'][i])\n",
    "for i in l1svc['test']:\n",
    "    l1svc['test'][i] = np.mean(l1svc['test'][i])\n",
    "\n",
    "print(l1svc)\n"
   ]
  },
  {
   "cell_type": "markdown",
   "metadata": {},
   "source": [
    "For L1-penalized SVM:\n",
    "\n",
    "The ROC plots of the training set and test set are aboved.\n",
    "The training set confusion matrix:\n",
    "\n",
    "||predicted B|predicted M|\n",
    "|--------|--------|--------|\n",
    "|actual B|283|2|\n",
    "|actual M|38|132|\n",
    "\n",
    "The test set confusion matrix:\n",
    "\n",
    "||predicted B|predicted M|\n",
    "|--------|--------|--------|\n",
    "|actual B|71|1|\n",
    "|actual M|11|31|\n",
    "\n",
    "The average metrics of both training set and tests set over 30 runs are:\n",
    "||accuracy|precision|recall|F1-score|auc|\n",
    "|--------|--------|--------|--------|--------|--------|\n",
    "|training|0.91|0.99|0.78|0.87|0.89|\n",
    "|test|0.90|0.95|0.77|0.85|0.86|"
   ]
  },
  {
   "cell_type": "markdown",
   "metadata": {},
   "source": [
    "ii. Semi-Supervised Learning/ Self-training: select 50% of the positive class along with 50% of the negative class in the training set as labeled data and the rest as unlabelled data. You can select them randomly.\n",
    "\n",
    "A. Train an L1-penalized SVM to classify the labeled data Use normalized data. Choose the penalty parameter using 5 fold cross validation.\n",
    "\n",
    "B. Find the unlabeled data point that is the farthest to the decision boundary of the SVM. Let the SVM label it (ignore its true label), and add it to the labeled data, and retrain the SVM. Continue this process until all unlabeled data are used. Test the final SVM on the test data andthe average accuracy, precision, recall, F1-score, and AUC, for both training and test sets over your M runs. Plot the ROC and report the confusion matrix for training and testing in one of the runs."
   ]
  },
  {
   "cell_type": "code",
   "execution_count": 6,
   "metadata": {},
   "outputs": [
    {
     "name": "stderr",
     "output_type": "stream",
     "text": [
      "100%|██████████| 30/30 [24:55<00:00, 49.84s/it]\n"
     ]
    },
    {
     "name": "stdout",
     "output_type": "stream",
     "text": [
      "train set's confusion matrix: \n",
      " [[274  11]\n",
      " [ 43 127]]\n",
      "test set's confusion matrix: \n",
      " [[68  4]\n",
      " [11 31]]\n",
      "{'train': {'acc': 0.8728937728937729, 'prec': 0.8532107689476905, 'rec': 0.8401960784313726, 'f1': 0.8321895436300432, 'auc': 0.8662968696250429}, 'test': {'acc': 0.8482456140350877, 'prec': 0.8224792307134497, 'rec': 0.7984126984126984, 'f1': 0.7930520970316786, 'auc': 0.8378637566137566}}\n"
     ]
    },
    {
     "data": {
      "image/png": "[encoded data removed]",
      "text/plain": [
       "<Figure size 432x288 with 1 Axes>"
      ]
     },
     "metadata": {
      "needs_background": "light"
     },
     "output_type": "display_data"
    },
    {
     "data": {
      "image/png": "[encoded data removed]",
      "text/plain": [
       "<Figure size 432x288 with 1 Axes>"
      ]
     },
     "metadata": {
      "needs_background": "light"
     },
     "output_type": "display_data"
    }
   ],
   "source": [
    "semisvc={'train':{},'test':{}}\n",
    "for i in trange(30):\n",
    "    x_train, x_test, y_train, y_test = train_test_split(wdbc,wdbc_label,test_size=0.2,stratify=wdbc_label)\n",
    "    label_x, unlabel_x, label_y, unlabel_y = train_test_split(x_train,y_train,test_size=0.5,stratify=y_train)\n",
    "    for j in range(len(unlabel_x)):\n",
    "        norm = Normalizer()\n",
    "        svm = LinearSVC(penalty='l1',dual=False)\n",
    "        pip = Pipeline([('scaler',Normalizer()),('svc',svm)])\n",
    "        param = {'svc__C':[1e15,1e16,1e17]}\n",
    "        cv = GridSearchCV(pip,param,cv=5)\n",
    "        cv = cv.fit(label_x,label_y)\n",
    "        dis = cv.decision_function(unlabel_x)\n",
    "        unlabel_x.index = range(len(unlabel_x))\n",
    "        new_label = unlabel_x.loc[np.argmax(dis),:]\n",
    "        unlabel_x = unlabel_x.drop(np.argmax(dis),axis=0)\n",
    "        label_x = label_x.append(new_label)\n",
    "        label_y = np.append(label_y,cv.predict(np.array(new_label).reshape(1,-1)))\n",
    "    norm = Normalizer()\n",
    "    svm = LinearSVC(penalty='l1',dual=False)\n",
    "    pip = Pipeline([('scaler',Normalizer()),('svc',svm)])\n",
    "    param = {'svc__C':[1e15,1e16,1e17]}\n",
    "    cv = GridSearchCV(pip,param,cv=5)\n",
    "    cv = cv.fit(label_x,label_y)\n",
    "    pred_test = cv.predict(x_test)\n",
    "    pred_train = cv.predict(x_train)\n",
    "    metrics_record(semisvc,y_train,pred_train,y_test,pred_test)\n",
    "\n",
    "plot_metrics(y_train,pred_train,y_test,pred_test)\n",
    "for i in semisvc['train']:\n",
    "    semisvc['train'][i] = np.mean(semisvc['train'][i])\n",
    "for i in semisvc['test']:\n",
    "    semisvc['test'][i] = np.mean(semisvc['test'][i])\n",
    "print(semisvc)\n",
    "\n"
   ]
  },
  {
   "cell_type": "markdown",
   "metadata": {},
   "source": [
    "For semi-supervised L1-penalized SVM:\n",
    "\n",
    "The ROC plots of the training set and test set are aboved.\n",
    "The training set confusion matrix:\n",
    "\n",
    "||predicted B|predicted M|\n",
    "|--------|--------|--------|\n",
    "|actual B|274|11|\n",
    "|actual M|43|127|\n",
    "\n",
    "The test set confusion matrix:\n",
    "\n",
    "||predicted B|predicted M|\n",
    "|--------|--------|--------|\n",
    "|actual B|68|4|\n",
    "|actual M|11|13|\n",
    "\n",
    "The average metrics of both training set and tests set over 30 runs are:\n",
    "||accuracy|precision|recall|F1-score|auc|\n",
    "|--------|--------|--------|--------|--------|--------|\n",
    "|training|0.87|0.85|0.85|0.84|0.83|\n",
    "|test|0.85|0.82|0.80|0.79|0.84|"
   ]
  },
  {
   "cell_type": "markdown",
   "metadata": {},
   "source": [
    "iii. Unsupervised Learning: Run k-means algorithm on the whole training set. Ignore the labels of the data, and assume k = 2.\n",
    "\n",
    "A. Run the k-means algorithm multiple times. Make sure that you initialize the algoritm randomly. How do you make sure that the algorithm was not trapped in a local minimum?\n",
    "\n",
    "B. Compute the centers of the two clusters and find the closest 30 data points to each center. Read the true labels of those 30 data points and take a majority poll within them. The majority poll becomes the label predicted by k-means for the members of each cluster. Then compare the labels provided by k-means with the true labels of the training data and report the average accuracy, precision, recall, F1-score, and AUC over M runs, and ROC and the confusion matrix for one of the runs.\n",
    "\n",
    "C. Classify test data based on their proximity to the centers of the clusters. Report the average accuracy, precision, recall, F1-score, and AUC over M runs, and ROC and the confusion matrix for one of the runs for the test data."
   ]
  },
  {
   "cell_type": "markdown",
   "metadata": {},
   "source": [
    "A. Kmeans cluster algorithm always take the risk trapped in a local minimum, we can increase the parameter 'n_init' to reduce that kind of risk, which is a parameter that control how many times the algorithm run with different centroid seeds and return the best result.\n",
    "Also repeat the algorithm multiple times and choose the result of less sum of distances is also a good way to reduce the risk of trapped in local minimum."
   ]
  },
  {
   "cell_type": "code",
   "execution_count": 7,
   "metadata": {},
   "outputs": [
    {
     "name": "stderr",
     "output_type": "stream",
     "text": [
      "100%|██████████| 30/30 [00:06<00:00,  4.60it/s]"
     ]
    },
    {
     "name": "stdout",
     "output_type": "stream",
     "text": [
      "train set's confusion matrix: \n",
      " [[285   0]\n",
      " [170   0]]\n",
      "test set's confusion matrix: \n",
      " [[72  0]\n",
      " [42  0]]\n"
     ]
    },
    {
     "name": "stderr",
     "output_type": "stream",
     "text": [
      "\n"
     ]
    },
    {
     "data": {
      "text/plain": [
       "{'train': {'acc': 0.6263736263736265,\n",
       "  'prec': 0.0,\n",
       "  'rec': 0.0,\n",
       "  'f1': 0.0,\n",
       "  'auc': 0.5},\n",
       " 'test': {'acc': 0.631578947368421,\n",
       "  'prec': 0.0,\n",
       "  'rec': 0.0,\n",
       "  'f1': 0.0,\n",
       "  'auc': 0.5}}"
      ]
     },
     "execution_count": 7,
     "metadata": {},
     "output_type": "execute_result"
    },
    {
     "data": {
      "image/png": "[encoded data removed]",
      "text/plain": [
       "<Figure size 432x288 with 1 Axes>"
      ]
     },
     "metadata": {
      "needs_background": "light"
     },
     "output_type": "display_data"
    },
    {
     "data": {
      "image/png": "[encoded data removed]",
      "text/plain": [
       "<Figure size 432x288 with 1 Axes>"
      ]
     },
     "metadata": {
      "needs_background": "light"
     },
     "output_type": "display_data"
    }
   ],
   "source": [
    "kmcluster = {'train':{},'test':{}}\n",
    "for i in trange(30):\n",
    "    x_train, x_test, y_train, y_test = train_test_split(wdbc,wdbc_label,test_size=0.2,stratify=wdbc_label)\n",
    "    x_train = Normalizer().fit_transform(x_train)\n",
    "    cluster = KMeans(n_clusters=2,n_init=100)\n",
    "    cluster_dis = cluster.fit_transform(x_train)\n",
    "    cluster_0_list = pd.DataFrame(cluster_dis).sort_values(by=0,ascending=False)[:30].index\n",
    "    cluster_1_list = pd.DataFrame(cluster_dis).sort_values(by=1,ascending=False)[:30].index\n",
    " #   print(set(cluster_0_list).intersection(set(cluster_1_list)))\n",
    "    cluster_0_pred = pd.DataFrame(y_train).loc[cluster_0_list,:].mode()[0][0]\n",
    "    cluster_1_pred = pd.DataFrame(y_train).loc[cluster_1_list,:].mode()[0][0]\n",
    "    cluster_pred = cluster.predict(x_train)\n",
    "    cluster_pred = np.where(cluster_pred==0,cluster_0_pred,cluster_1_pred)\n",
    "    test_pred = cluster.predict(x_test)\n",
    "    test_pred = np.where(test_pred==0,cluster_0_pred,cluster_1_pred)\n",
    "    metrics_record(kmcluster,y_train,cluster_pred,y_test,test_pred)\n",
    "    \n",
    "plot_metrics(y_train,cluster_pred,y_test,test_pred)\n",
    "for i in kmcluster['train']:\n",
    "    kmcluster['train'][i] = np.mean(kmcluster['train'][i])\n",
    "for i in kmcluster['test']:\n",
    "    kmcluster['test'][i] = np.mean(kmcluster['test'][i])\n",
    "kmcluster"
   ]
  },
  {
   "cell_type": "markdown",
   "metadata": {},
   "source": [
    "For kmeans cluster:\n",
    "\n",
    "The ROC plots of the training set and test set are aboved.\n",
    "The training set confusion matrix:\n",
    "\n",
    "||predicted B|predicted M|\n",
    "|--------|--------|--------|\n",
    "|actual B|285|0|\n",
    "|actual M|170|0|\n",
    "\n",
    "The test set confusion matrix:\n",
    "\n",
    "||predicted B|predicted M|\n",
    "|--------|--------|--------|\n",
    "|actual B|72|0|\n",
    "|actual M|42|0|\n",
    "\n",
    "The average metrics of both training set and tests set over 30 runs are:\n",
    "||accuracy|precision|recall|F1-score|auc|\n",
    "|--------|--------|--------|--------|--------|--------|\n",
    "|training|0.63|0.00|0.00|0.00|0.50|\n",
    "|test|0.63|0.00|0.00|0.00|0.50|"
   ]
  },
  {
   "cell_type": "markdown",
   "metadata": {},
   "source": [
    "iv. Spectral Clustering: Repeat 1(b)iii using spectral clustering, which is clustering based on kernels. Research what spectral clustering is. Use RBF kernel with gamma=1 or find a gamma for which the two clutsres have the same balance as the one in original data set (if the positive class has p and the negative class has n samples, the two clusters must have p and n members). Do not label data based on their proximity to cluster center, because spectral clustering may give you non-convex clusters. Instead, use fit−predict method.\n"
   ]
  },
  {
   "cell_type": "markdown",
   "metadata": {},
   "source": [
    "Ans: Spectral clustering is a clustering algorithm based on graph theory, which cluster data based on the edges connecting them. The edges between data define the similarity of the two related data. Spectral clustering is calculated from eigenvalues and eigenvectors and the clustering of the vector may not necessarily have convex boundaries."
   ]
  },
  {
   "cell_type": "code",
   "execution_count": 8,
   "metadata": {},
   "outputs": [
    {
     "name": "stderr",
     "output_type": "stream",
     "text": [
      "100%|██████████| 30/30 [00:02<00:00, 11.07it/s]"
     ]
    },
    {
     "name": "stdout",
     "output_type": "stream",
     "text": [
      "train set's confusion matrix: \n",
      " [[286   0]\n",
      " [170   0]]\n",
      "test set's confusion matrix: \n",
      " [[71  0]\n",
      " [42  0]]\n"
     ]
    },
    {
     "name": "stderr",
     "output_type": "stream",
     "text": [
      "\n"
     ]
    },
    {
     "data": {
      "text/plain": [
       "{'train': {'acc': 0.6105994152046782,\n",
       "  'prec': 0.0531782635201767,\n",
       "  'rec': 0.08549019607843136,\n",
       "  'f1': 0.06495145286235568,\n",
       "  'auc': 0.5041087344028521},\n",
       " 'test': {'acc': 0.6103244837758113,\n",
       "  'prec': 0.050503224545632205,\n",
       "  'rec': 0.08174603174603175,\n",
       "  'f1': 0.06194118776542876,\n",
       "  'auc': 0.5023753632908563}}"
      ]
     },
     "execution_count": 8,
     "metadata": {},
     "output_type": "execute_result"
    },
    {
     "data": {
      "image/png": "[encoded data removed]",
      "text/plain": [
       "<Figure size 432x288 with 1 Axes>"
      ]
     },
     "metadata": {
      "needs_background": "light"
     },
     "output_type": "display_data"
    },
    {
     "data": {
      "image/png": "[encoded data removed]",
      "text/plain": [
       "<Figure size 432x288 with 1 Axes>"
      ]
     },
     "metadata": {
      "needs_background": "light"
     },
     "output_type": "display_data"
    }
   ],
   "source": [
    "scluster={'train':{},'test':{}}\n",
    "for i in trange(30):\n",
    "    kfold = StratifiedKFold(n_splits=5,shuffle=True)\n",
    "    for train_index,test_index in kfold.split(wdbc,wdbc_label):\n",
    "        trainset,testset = train_index,test_index\n",
    "        x_train,x_test = wdbc.loc[trainset,:],wdbc.loc[testset,:]\n",
    "        y_train,y_test = wdbc_label[trainset],wdbc_label[testset]\n",
    "        scaler = Normalizer().fit(x_train)\n",
    "        wdbc_scaled = scaler.transform(wdbc)\n",
    "    cluster = SpectralClustering(n_clusters=2,gamma=2)\n",
    "    cluster_pred = cluster.fit_predict(wdbc)\n",
    "    train_pred = cluster_pred[trainset]\n",
    "    cluster_0_pred = pd.DataFrame(y_train[train_pred==0]).sample(30).mode().loc[0,0]\n",
    "    cluster_1_pred = pd.DataFrame(y_train[train_pred==1]).sample(30).mode().loc[0,0]\n",
    "    cluster_pred = np.where(cluster_pred==0,cluster_0_pred,cluster_1_pred)\n",
    "    test_pred = cluster_pred[testset]\n",
    "    train_pred = cluster_pred[trainset]\n",
    "    metrics_record(scluster,y_train,train_pred,y_test,test_pred)\n",
    "\n",
    "plot_metrics(y_train,train_pred,y_test,test_pred)\n",
    "for i in scluster['train']:\n",
    "    scluster['train'][i] = np.mean(scluster['train'][i])\n",
    "for i in scluster['test']:\n",
    "    scluster['test'][i] = np.mean(scluster['test'][i])\n",
    "scluster\n"
   ]
  },
  {
   "cell_type": "markdown",
   "metadata": {},
   "source": [
    "For Spectral Clustering:\n",
    "\n",
    "The ROC plots of the training set and test set are aboved.\n",
    "The training set confusion matrix:\n",
    "\n",
    "||predicted B|predicted M|\n",
    "|--------|--------|--------|\n",
    "|actual B|286|0|\n",
    "|actual M|170|0|\n",
    "\n",
    "The test set confusion matrix:\n",
    "\n",
    "||predicted B|predicted M|\n",
    "|--------|--------|--------|\n",
    "|actual B|71|0|\n",
    "|actual M|42|0|\n",
    "\n",
    "The average metrics of both training set and tests set over 30 runs are:\n",
    "||accuracy|precision|recall|F1-score|auc|\n",
    "|--------|--------|--------|--------|--------|--------|\n",
    "|training|0.62|0.05|0.09|0.06|0.50|\n",
    "|test|0.62|0.05|0.08|0.06|0.50|"
   ]
  },
  {
   "cell_type": "markdown",
   "metadata": {},
   "source": [
    "v. One can expect that supervised learning on the full data set works better than semi-supervised learning with half of the data set labeled.One can expect that unsupervised learning underperforms in such situations. Compare the results you obtained by those methods."
   ]
  },
  {
   "cell_type": "code",
   "execution_count": 9,
   "metadata": {},
   "outputs": [
    {
     "data": {
      "text/html": [
       "<div>\n",
       "<style scoped>\n",
       "    .dataframe tbody tr th:only-of-type {\n",
       "        vertical-align: middle;\n",
       "    }\n",
       "\n",
       "    .dataframe tbody tr th {\n",
       "        vertical-align: top;\n",
       "    }\n",
       "\n",
       "    .dataframe thead th {\n",
       "        text-align: right;\n",
       "    }\n",
       "</style>\n",
       "<table border=\"1\" class=\"dataframe\">\n",
       "  <thead>\n",
       "    <tr style=\"text-align: right;\">\n",
       "      <th></th>\n",
       "      <th>acc</th>\n",
       "      <th>prec</th>\n",
       "      <th>rec</th>\n",
       "      <th>f1</th>\n",
       "      <th>auc</th>\n",
       "    </tr>\n",
       "  </thead>\n",
       "  <tbody>\n",
       "    <tr>\n",
       "      <th>l1svc</th>\n",
       "      <td>0.899123</td>\n",
       "      <td>0.949864</td>\n",
       "      <td>0.768254</td>\n",
       "      <td>0.847574</td>\n",
       "      <td>0.871858</td>\n",
       "    </tr>\n",
       "    <tr>\n",
       "      <th>semi-svc</th>\n",
       "      <td>0.848246</td>\n",
       "      <td>0.822479</td>\n",
       "      <td>0.798413</td>\n",
       "      <td>0.793052</td>\n",
       "      <td>0.837864</td>\n",
       "    </tr>\n",
       "    <tr>\n",
       "      <th>kmeans</th>\n",
       "      <td>0.631579</td>\n",
       "      <td>0.000000</td>\n",
       "      <td>0.000000</td>\n",
       "      <td>0.000000</td>\n",
       "      <td>0.500000</td>\n",
       "    </tr>\n",
       "    <tr>\n",
       "      <th>spectural</th>\n",
       "      <td>0.610324</td>\n",
       "      <td>0.050503</td>\n",
       "      <td>0.081746</td>\n",
       "      <td>0.061941</td>\n",
       "      <td>0.502375</td>\n",
       "    </tr>\n",
       "  </tbody>\n",
       "</table>\n",
       "</div>"
      ],
      "text/plain": [
       "                acc      prec       rec        f1       auc\n",
       "l1svc      0.899123  0.949864  0.768254  0.847574  0.871858\n",
       "semi-svc   0.848246  0.822479  0.798413  0.793052  0.837864\n",
       "kmeans     0.631579  0.000000  0.000000  0.000000  0.500000\n",
       "spectural  0.610324  0.050503  0.081746  0.061941  0.502375"
      ]
     },
     "execution_count": 9,
     "metadata": {},
     "output_type": "execute_result"
    }
   ],
   "source": [
    "metrics = {'l1svc':l1svc['test'],'semi-svc':semisvc['test'],'kmeans':kmcluster['test'],'spectural':scluster['test']}\n",
    "metric = pd.DataFrame.from_dict(metrics,orient='index')\n",
    "metric"
   ]
  },
  {
   "cell_type": "markdown",
   "metadata": {},
   "source": [
    "Campare the test set metrics:\n",
    "\n",
    "|model|accuracy|precision|recall|F1-score|auc|\n",
    "|--------|--------|--------|--------|--------|--------|\n",
    "|l1svc|0.90|0.95|0.77|0.85|0.87|\n",
    "|semi-l1svc|0.85|0.82|0.80|0.79|0.84|\n",
    "|kmean cluster|0.63|0.00|0.00|0.00|0.50|\n",
    "|spectural cluster|0.61|0.05|0.08|0.06|0.50|\n",
    "\n",
    "The supervised learning model(l1svc) has the best performance, and the semi-supervised model(semi-l1svc) performs better than unsupervised learning(kmeans and sepctural cluster).\n",
    "\n",
    "For classification, spectural cluster model has a little higher discrimination than kmeans cluster but less in accuracy. But This two unsupervised models have no discrimination since their average auc are both 0.5 and they almost classifify every sample into class 'B'."
   ]
  },
  {
   "cell_type": "markdown",
   "metadata": {},
   "source": [
    "2. Active Learning Using Support Vector Machines\n",
    "\n",
    "(a) Download the banknote authentication Data Set from: https://archive.ics.uci.edu/ml/datasets/banknote+authentication. Choose 472 data points ran- domly as the test set, and the remaining 900 points as the training set. This is a binary classification problem.\n"
   ]
  },
  {
   "cell_type": "code",
   "execution_count": 10,
   "metadata": {},
   "outputs": [],
   "source": [
    "ba = pd.read_csv('../Data/data_banknote_authentication.txt',header=None,names=['variance','skewness','curtosis','entropy','class'])\n",
    "y = ba.pop('class')"
   ]
  },
  {
   "cell_type": "markdown",
   "metadata": {},
   "source": [
    "i. Train a SVM with a pool of 10 randomly selected data points from the training set using linear kernel and L1 penalty. Select the penalty parameter using 5-fold cross validation. Repeat this process by adding 10 other randomly selected data points to the pool, until you use all the 900 points. Do NOT replace the samples back into the training set at each step. Calculate the test error for each SVM. You will have 90 SVMs that were trained using 10, 20, 30, ... , 900 data points and their 90 test errors. You have implemented passive learning.\n"
   ]
  },
  {
   "cell_type": "code",
   "execution_count": 11,
   "metadata": {},
   "outputs": [
    {
     "name": "stderr",
     "output_type": "stream",
     "text": [
      "100%|██████████| 50/50 [10:07<00:00, 12.15s/it]\n"
     ]
    }
   ],
   "source": [
    "passive = {}\n",
    "for j in trange(50):\n",
    "    x_train,x_test,y_train,y_test = train_test_split(ba,y,train_size=900)\n",
    "    trainset = pd.DataFrame([])\n",
    "    trainclass = pd.Series([])\n",
    "    for i in range(90):\n",
    "        tmp = x_train.sample(10)\n",
    "        tmp_index = tmp.index\n",
    "        tmp_class = y_train[tmp_index]\n",
    "        trainset = trainset.append(tmp)\n",
    "        trainclass = trainclass.append(tmp_class)\n",
    "        x_train = x_train.drop(tmp_index,axis=0)\n",
    "        norm = Normalizer()\n",
    "        svm = LinearSVC(penalty='l1',dual=False)\n",
    "        pip = Pipeline([('scaler',Normalizer()),('svc',svm)])\n",
    "        param = {'svc__C':[1e-3,1e-2,1e-1,1,10,100,1e3,1e4,1e5]}\n",
    "        cv = GridSearchCV(pip,param,cv=5)\n",
    "        cv = cv.fit(trainset,trainclass)\n",
    "        pred_cv = cv.predict(x_test)\n",
    "        passive[(i+1)*10] = passive.get((i+1)*10,[])+[1-accuracy_score(y_test,pred_cv)]\n"
   ]
  },
  {
   "cell_type": "markdown",
   "metadata": {},
   "source": [
    "ii. Train a SVM with a pool of 10 randomly selected data points from the training set using linear kernel and L1 penalty. Select the parameters of the SVM with 5-fold cross validation. Choose the 10 closest data points in the training set to the hyperplane of the SVM6 and add them to the pool. Do not replace the samples back into the training set. Train a new SVM using the pool. Repeat this process until all training data is used. You will have 90 SVMs that were trained using 10, 20, 30,..., 900 data points and their 90 test errors. You have implemented active learning."
   ]
  },
  {
   "cell_type": "code",
   "execution_count": 12,
   "metadata": {},
   "outputs": [
    {
     "name": "stderr",
     "output_type": "stream",
     "text": [
      "100%|██████████| 50/50 [09:17<00:00, 11.15s/it]\n"
     ]
    }
   ],
   "source": [
    "active = {}\n",
    "for j in trange(50):\n",
    "    x_train,x_test,y_train,y_test = train_test_split(ba,y,train_size=900)\n",
    "    trainset = pd.DataFrame([])\n",
    "    trainclass = pd.Series([])\n",
    "    tmp = x_train.sample(10)\n",
    "    tmp_index = tmp.index\n",
    "    tmp_class = y_train[tmp_index]\n",
    "    trainset = trainset.append(tmp)\n",
    "    trainclass = trainclass.append(tmp_class)\n",
    "    x_train = x_train.drop(tmp_index,axis=0)\n",
    "    x_train.index = range(len(x_train))\n",
    "    y_train = y_train.drop(tmp_index)\n",
    "    y_train.index = range(len(y_train))\n",
    "    norm = Normalizer()\n",
    "    svm = LinearSVC(penalty='l1',dual=False)\n",
    "    pip = Pipeline([('scaler',Normalizer()),('svc',svm)])\n",
    "    param = {'svc__C':[1e-3,1e-2,1e-1,1,10,100,1e3,1e4,1e5]}\n",
    "    cv = GridSearchCV(pip,param,cv=5)\n",
    "    cv = cv.fit(trainset,trainclass)\n",
    "    best.append(cv.best_params_['svc__C'])\n",
    "    pred_cv = cv.predict(x_test)\n",
    "    active[10] = active.get(10,[])+[accuracy_score(y_test,pred_cv)]\n",
    "    dis_cv = cv.decision_function(x_train)\n",
    "    for i in range(89):\n",
    "        tmp_index = np.argsort(dis_cv)[:10]\n",
    "        trainset = trainset.append(x_train.loc[tmp_index,:])\n",
    "        trainclass = trainclass.append(y_train[tmp_index])\n",
    "        x_train = x_train.drop(tmp_index,axis=0)\n",
    "        y_train = y_train.drop(tmp_index)\n",
    "        x_train.index = range(len(x_train))\n",
    "        y_train.index = range(len(y_train))\n",
    "        norm = Normalizer()\n",
    "        svm = LinearSVC(penalty='l1',dual=False)\n",
    "        pip = Pipeline([('scaler',Normalizer()),('svc',svm)])\n",
    "        param = {'svc__C':[1e-3,1e-2,1e-1,1,10,100,1e3,1e4,1e5]}\n",
    "        cv = GridSearchCV(pip,param,cv=5)\n",
    "        cv = cv.fit(trainset,trainclass)\n",
    "        pred_cv = cv.predict(x_test)\n",
    "        active[(i+2)*10] = active.get((i+2)*10,[])+[1-accuracy_score(y_test,pred_cv)]\n",
    "        if i < 88:\n",
    "            dis_cv = cv.decision_function(x_train)\n"
   ]
  },
  {
   "cell_type": "markdown",
   "metadata": {},
   "source": [
    "(c) Average the 50 test errors for each of the incrementally trained 90 SVMs in 2(b)i and 2(b)ii. By doing so, you are performing a Monte Carlo simulation. Plot average test error versus number of training instances for both active and passive learners on the same figure and report your conclusions. Here, you are actually obtaining a learning curve by Monte-Carlo simulation."
   ]
  },
  {
   "cell_type": "code",
   "execution_count": 13,
   "metadata": {},
   "outputs": [],
   "source": [
    "for i in passive:\n",
    "    passive[i] = np.mean(passive[i])\n",
    "\n",
    "for i in active:\n",
    "    active[i] = np.mean(active[i])\n",
    "\n",
    "MC_res = {'passive':passive,'active':active}\n",
    "MC_res = pd.DataFrame.from_dict(MC_res)\n",
    "MC_res['size'] = MC_res.index"
   ]
  },
  {
   "cell_type": "code",
   "execution_count": 14,
   "metadata": {},
   "outputs": [
    {
     "data": {
      "text/html": [
       "<div>\n",
       "<style scoped>\n",
       "    .dataframe tbody tr th:only-of-type {\n",
       "        vertical-align: middle;\n",
       "    }\n",
       "\n",
       "    .dataframe tbody tr th {\n",
       "        vertical-align: top;\n",
       "    }\n",
       "\n",
       "    .dataframe thead th {\n",
       "        text-align: right;\n",
       "    }\n",
       "</style>\n",
       "<table border=\"1\" class=\"dataframe\">\n",
       "  <thead>\n",
       "    <tr style=\"text-align: right;\">\n",
       "      <th></th>\n",
       "      <th>passive</th>\n",
       "      <th>active</th>\n",
       "      <th>size</th>\n",
       "    </tr>\n",
       "  </thead>\n",
       "  <tbody>\n",
       "    <tr>\n",
       "      <th>10</th>\n",
       "      <td>0.165763</td>\n",
       "      <td>0.834831</td>\n",
       "      <td>10</td>\n",
       "    </tr>\n",
       "    <tr>\n",
       "      <th>20</th>\n",
       "      <td>0.069703</td>\n",
       "      <td>0.138136</td>\n",
       "      <td>20</td>\n",
       "    </tr>\n",
       "    <tr>\n",
       "      <th>30</th>\n",
       "      <td>0.042034</td>\n",
       "      <td>0.130000</td>\n",
       "      <td>30</td>\n",
       "    </tr>\n",
       "    <tr>\n",
       "      <th>40</th>\n",
       "      <td>0.023898</td>\n",
       "      <td>0.126568</td>\n",
       "      <td>40</td>\n",
       "    </tr>\n",
       "    <tr>\n",
       "      <th>50</th>\n",
       "      <td>0.023347</td>\n",
       "      <td>0.116568</td>\n",
       "      <td>50</td>\n",
       "    </tr>\n",
       "    <tr>\n",
       "      <th>...</th>\n",
       "      <td>...</td>\n",
       "      <td>...</td>\n",
       "      <td>...</td>\n",
       "    </tr>\n",
       "    <tr>\n",
       "      <th>860</th>\n",
       "      <td>0.007797</td>\n",
       "      <td>0.009025</td>\n",
       "      <td>860</td>\n",
       "    </tr>\n",
       "    <tr>\n",
       "      <th>870</th>\n",
       "      <td>0.007669</td>\n",
       "      <td>0.008983</td>\n",
       "      <td>870</td>\n",
       "    </tr>\n",
       "    <tr>\n",
       "      <th>880</th>\n",
       "      <td>0.007542</td>\n",
       "      <td>0.008898</td>\n",
       "      <td>880</td>\n",
       "    </tr>\n",
       "    <tr>\n",
       "      <th>890</th>\n",
       "      <td>0.007754</td>\n",
       "      <td>0.009110</td>\n",
       "      <td>890</td>\n",
       "    </tr>\n",
       "    <tr>\n",
       "      <th>900</th>\n",
       "      <td>0.007797</td>\n",
       "      <td>0.008983</td>\n",
       "      <td>900</td>\n",
       "    </tr>\n",
       "  </tbody>\n",
       "</table>\n",
       "<p>90 rows × 3 columns</p>\n",
       "</div>"
      ],
      "text/plain": [
       "      passive    active  size\n",
       "10   0.165763  0.834831    10\n",
       "20   0.069703  0.138136    20\n",
       "30   0.042034  0.130000    30\n",
       "40   0.023898  0.126568    40\n",
       "50   0.023347  0.116568    50\n",
       "..        ...       ...   ...\n",
       "860  0.007797  0.009025   860\n",
       "870  0.007669  0.008983   870\n",
       "880  0.007542  0.008898   880\n",
       "890  0.007754  0.009110   890\n",
       "900  0.007797  0.008983   900\n",
       "\n",
       "[90 rows x 3 columns]"
      ]
     },
     "execution_count": 14,
     "metadata": {},
     "output_type": "execute_result"
    }
   ],
   "source": [
    "MC_res"
   ]
  },
  {
   "cell_type": "code",
   "execution_count": 15,
   "metadata": {},
   "outputs": [
    {
     "data": {
      "text/html": [
       "<div>\n",
       "<style scoped>\n",
       "    .dataframe tbody tr th:only-of-type {\n",
       "        vertical-align: middle;\n",
       "    }\n",
       "\n",
       "    .dataframe tbody tr th {\n",
       "        vertical-align: top;\n",
       "    }\n",
       "\n",
       "    .dataframe thead th {\n",
       "        text-align: right;\n",
       "    }\n",
       "</style>\n",
       "<table border=\"1\" class=\"dataframe\">\n",
       "  <thead>\n",
       "    <tr style=\"text-align: right;\">\n",
       "      <th></th>\n",
       "      <th>size</th>\n",
       "      <th>model</th>\n",
       "      <th>accuracy</th>\n",
       "    </tr>\n",
       "  </thead>\n",
       "  <tbody>\n",
       "    <tr>\n",
       "      <th>0</th>\n",
       "      <td>10</td>\n",
       "      <td>passive</td>\n",
       "      <td>0.165763</td>\n",
       "    </tr>\n",
       "    <tr>\n",
       "      <th>1</th>\n",
       "      <td>20</td>\n",
       "      <td>passive</td>\n",
       "      <td>0.069703</td>\n",
       "    </tr>\n",
       "    <tr>\n",
       "      <th>2</th>\n",
       "      <td>30</td>\n",
       "      <td>passive</td>\n",
       "      <td>0.042034</td>\n",
       "    </tr>\n",
       "    <tr>\n",
       "      <th>3</th>\n",
       "      <td>40</td>\n",
       "      <td>passive</td>\n",
       "      <td>0.023898</td>\n",
       "    </tr>\n",
       "    <tr>\n",
       "      <th>4</th>\n",
       "      <td>50</td>\n",
       "      <td>passive</td>\n",
       "      <td>0.023347</td>\n",
       "    </tr>\n",
       "    <tr>\n",
       "      <th>...</th>\n",
       "      <td>...</td>\n",
       "      <td>...</td>\n",
       "      <td>...</td>\n",
       "    </tr>\n",
       "    <tr>\n",
       "      <th>175</th>\n",
       "      <td>860</td>\n",
       "      <td>active</td>\n",
       "      <td>0.009025</td>\n",
       "    </tr>\n",
       "    <tr>\n",
       "      <th>176</th>\n",
       "      <td>870</td>\n",
       "      <td>active</td>\n",
       "      <td>0.008983</td>\n",
       "    </tr>\n",
       "    <tr>\n",
       "      <th>177</th>\n",
       "      <td>880</td>\n",
       "      <td>active</td>\n",
       "      <td>0.008898</td>\n",
       "    </tr>\n",
       "    <tr>\n",
       "      <th>178</th>\n",
       "      <td>890</td>\n",
       "      <td>active</td>\n",
       "      <td>0.009110</td>\n",
       "    </tr>\n",
       "    <tr>\n",
       "      <th>179</th>\n",
       "      <td>900</td>\n",
       "      <td>active</td>\n",
       "      <td>0.008983</td>\n",
       "    </tr>\n",
       "  </tbody>\n",
       "</table>\n",
       "<p>180 rows × 3 columns</p>\n",
       "</div>"
      ],
      "text/plain": [
       "     size    model  accuracy\n",
       "0      10  passive  0.165763\n",
       "1      20  passive  0.069703\n",
       "2      30  passive  0.042034\n",
       "3      40  passive  0.023898\n",
       "4      50  passive  0.023347\n",
       "..    ...      ...       ...\n",
       "175   860   active  0.009025\n",
       "176   870   active  0.008983\n",
       "177   880   active  0.008898\n",
       "178   890   active  0.009110\n",
       "179   900   active  0.008983\n",
       "\n",
       "[180 rows x 3 columns]"
      ]
     },
     "execution_count": 15,
     "metadata": {},
     "output_type": "execute_result"
    }
   ],
   "source": [
    "MC_res_plot = MC_res.melt(id_vars='size',var_name = 'model',value_name='accuracy')\n",
    "MC_res_plot"
   ]
  },
  {
   "cell_type": "code",
   "execution_count": 16,
   "metadata": {},
   "outputs": [
    {
     "data": {
      "text/plain": [
       "Text(0.5, 1.0, 'Learning curve of Monte-Carlo simulation')"
      ]
     },
     "execution_count": 16,
     "metadata": {},
     "output_type": "execute_result"
    },
    {
     "data": {
      "image/png": "[encoded data removed]",
      "text/plain": [
       "<Figure size 432x288 with 1 Axes>"
      ]
     },
     "metadata": {
      "needs_background": "light"
     },
     "output_type": "display_data"
    }
   ],
   "source": [
    "sns.lineplot(data=MC_res_plot,x='size',y='accuracy',hue='model')\n",
    "plt.title('Learning curve of Monte-Carlo simulation')"
   ]
  },
  {
   "cell_type": "markdown",
   "metadata": {},
   "source": [
    "According to the accuracy and the learning curve plot, we can tell that passive learning performance better and converge faster."
   ]
  },
  {
   "cell_type": "markdown",
   "metadata": {},
   "source": [
    "【reference】\n",
    "1. Sklearn api reference: https://scikit-learn.org/stable/modules/classes.html\n",
    "2. Pandas api reference: https://pandas.pydata.org/pandas-docs/stable/reference/index.html\n",
    "3. Kmeans cluster wikipedia: https://en.wikipedia.org/wiki/K-means_clustering\n",
    "4. Spectral clustering wikipedia: https://en.wikipedia.org/wiki/Spectral_clustering\n",
    "5. Spectral clustering from towardsdatascience: https://towardsdatascience.com/spectral-clustering-aba2640c0d5b\n",
    "6. What, why and how of spectral clustering: https://www.analyticsvidhya.com/blog/2021/05/what-why-and-how-of-spectral-clustering/\n",
    "7. Avoiding local minimum when using kmeans - stackoverflow: https://stackoverflow.com/questions/43789602/avoiding-local-minima-when-using-kmeans\n"
   ]
  }
 ],
 "metadata": {
  "interpreter": {
   "hash": "066cf0ab69d75ca3530cdce1f2208243636736d63d7695bd8d7fe2fbd9405541"
  },
  "kernelspec": {
   "display_name": "Python 3.9.6 ('base')",
   "language": "python",
   "name": "python3"
  },
  "language_info": {
   "codemirror_mode": {
    "name": "ipython",
    "version": 3
   },
   "file_extension": ".py",
   "mimetype": "text/x-python",
   "name": "python",
   "nbconvert_exporter": "python",
   "pygments_lexer": "ipython3",
   "version": "3.9.6"
  },
  "orig_nbformat": 4
 },
 "nbformat": 4,
 "nbformat_minor": 2
}
