{
 "cells": [
  {
   "cell_type": "code",
   "execution_count": 1,
   "metadata": {},
   "outputs": [],
   "source": [
    "import numpy as np\n",
    "import pandas as pd\n",
    "from sklearn.multioutput import MultiOutputClassifier\n",
    "from sklearn.svm import SVC,LinearSVC\n",
    "from sklearn.model_selection import train_test_split,GridSearchCV,KFold,StratifiedKFold\n",
    "from sklearn.preprocessing import LabelEncoder\n",
    "from sklearn.cluster import KMeans\n",
    "from sklearn.metrics import calinski_harabasz_score,accuracy_score\n",
    "from sklearn.multiclass import OneVsOneClassifier\n",
    "import warnings\n",
    "warnings.filterwarnings('ignore')\n",
    "from tqdm import tqdm"
   ]
  },
  {
   "cell_type": "markdown",
   "metadata": {},
   "source": [
    "(a) Download the Anuran Calls (MFCCs) Data Set from: https://archive.ics.uci.edu/ml/datasets/Anuran+Calls+%28MFCCs%29. \n",
    "Choose 70% of the data randomly as the training set."
   ]
  },
  {
   "cell_type": "code",
   "execution_count": 2,
   "metadata": {},
   "outputs": [],
   "source": [
    "data = pd.read_csv('../Data/Frogs_MFCCs.csv')\n",
    "labels = data.loc[:,['Family','Genus','Species']]\n",
    "data = data.drop(['Family','Genus','Species'],axis=1)"
   ]
  },
  {
   "cell_type": "code",
   "execution_count": 3,
   "metadata": {},
   "outputs": [],
   "source": [
    "train_x,test_x,train_y,test_y = train_test_split(data, labels,test_size=0.3)"
   ]
  },
  {
   "cell_type": "code",
   "execution_count": 4,
   "metadata": {},
   "outputs": [],
   "source": [
    "train_x.index = range(len(train_x))\n",
    "train_y.index = range(len(train_y))\n",
    "test_x.index = range(len(test_x))\n",
    "test_y.index = range(len(test_y))"
   ]
  },
  {
   "cell_type": "code",
   "execution_count": 5,
   "metadata": {},
   "outputs": [],
   "source": [
    "for i in train_y:\n",
    "    le = LabelEncoder().fit(train_y[i])\n",
    "    train_y.loc[:,i] = le.transform(train_y[i])\n",
    "    test_y.loc[:,i] = le.transform(test_y[i])"
   ]
  },
  {
   "cell_type": "markdown",
   "metadata": {},
   "source": [
    "i. Research exact match and hamming score/ loss methods for evaluating multi-label classication and use them in evaluating the classiers in this problem."
   ]
  },
  {
   "cell_type": "markdown",
   "metadata": {},
   "source": [
    "Exact match method is all predict labels should be exactly same with the true label.\n",
    "\n",
    "$EMR = \\frac{1}{n}\\sum^n_{i=1}I(Y_i =  Z_i)$\n",
    "\n",
    "where i represent the ith instance.\n",
    "\n",
    "Hamming loss is the fraction of wrong labels to the total numbers of labels, which is more tolerant because it consider patrial mis-classification.\n",
    "\n",
    "$HL = \\frac{1}{NL}\\sum^N_{i=1}\\sum^L_{j=1}I(\\hat{y_{ij}}\\neq y_{ij})$\n",
    "\n",
    "Hamming score is the fraction of the set of correctly predict labels to the set of total labels.\n",
    "\n",
    "$HS = \\frac{1}{n}\\sum^n_{i=1}\\frac{|Y_i\\cap Z_i|}{|Y_i\\cup Z_i|}$"
   ]
  },
  {
   "cell_type": "markdown",
   "metadata": {},
   "source": [
    "ii. Train a SVM for each of the labels, using Gaussian kernels and one versus all classiers. Determine the weight of the SVM penalty and the width of the Gaussian Kernel using 10 fold cross validation. You are welcome to try to solve the problem with both standardized and raw attributes and report the results."
   ]
  },
  {
   "cell_type": "code",
   "execution_count": 6,
   "metadata": {},
   "outputs": [],
   "source": [
    "def scores(true_y,pred_y):\n",
    "    exact_match = 0\n",
    "    hamming_loss = 0\n",
    "    for i in range(len(true_y)):\n",
    "        if all(true_y[i] == pred_y[i]):\n",
    "            exact_match += 1\n",
    "            hamming_loss += 4\n",
    "        else:\n",
    "            for j in range(3):\n",
    "                if true_y[i][j] == pred_y[i][j]:\n",
    "                    hamming_loss += 1\n",
    "    return exact_match/len(true_y),1-(hamming_loss/(4*len(true_y)))\n",
    "        "
   ]
  },
  {
   "cell_type": "code",
   "execution_count": 7,
   "metadata": {},
   "outputs": [],
   "source": [
    "\n",
    "kf = KFold(10,shuffle=False)\n",
    "tmp = {}\n",
    "for train_index, test_index in kf.split(train_x,train_y):\n",
    "    cv_train, cv_test = train_x.loc[train_index], train_x.loc[test_index]\n",
    "    cvy_train, cvy_test = train_y.loc[train_index], train_y.loc[test_index]\n",
    "    for l in labels:\n",
    "        tmp[l] = tmp.get(l,{})\n",
    "        ttrain_y = cvy_train[l]\n",
    "        ttest_y = cvy_test[l]\n",
    "        C = [0.01,0.1,1,10,100]\n",
    "        gamma = ['auto','scale',0.01,0.1,1,10]\n",
    "        for i in C:\n",
    "            for j in gamma:\n",
    "                tmp[l][(i,j)] = tmp[l].get((i,j),[])\n",
    "                svc = SVC(kernel='rbf',C=i,gamma=j)\n",
    "                ovr = OneVsOneClassifier(svc)\n",
    "                ovr.fit(cv_train,ttrain_y)\n",
    "                pred_test = ovr.predict(cv_test)\n",
    "                s = accuracy_score(np.array(ttest_y),np.array(pred_test))\n",
    "                tmp[l][(i,j)].append(s)\n",
    "best_param = {}\n",
    "for i in tmp:\n",
    "    best_param[i] = sorted(tmp[i].items(),key=lambda x: np.mean(x[1]),reverse=True)[0][0]"
   ]
  },
  {
   "cell_type": "code",
   "execution_count": 8,
   "metadata": {},
   "outputs": [],
   "source": [
    "pred_res = {}\n",
    "for i in best_param:\n",
    "    ttrain_y = train_y[i]\n",
    "    ttest_y = test_y[i]\n",
    "    svc = SVC(kernel='rbf',C=best_param[i][0],gamma=best_param[i][1]).fit(train_x,ttrain_y)\n",
    "    pred_res[i] = svc.predict(test_x)\n",
    "em,hl = scores(test_y.values,pd.DataFrame(pred_res).values)"
   ]
  },
  {
   "cell_type": "code",
   "execution_count": 9,
   "metadata": {},
   "outputs": [
    {
     "name": "stdout",
     "output_type": "stream",
     "text": [
      "exact matching rate is: 0.999536822603057 hamming loss is: 0.0004631773969430153\n"
     ]
    }
   ],
   "source": [
    "print('exact matching rate is:',em,'hamming loss is:',hl)"
   ]
  },
  {
   "cell_type": "code",
   "execution_count": 10,
   "metadata": {},
   "outputs": [
    {
     "data": {
      "text/plain": [
       "{'Family': (1, 0.1), 'Genus': (1, 'auto'), 'Species': (1, 'auto')}"
      ]
     },
     "execution_count": 10,
     "metadata": {},
     "output_type": "execute_result"
    }
   ],
   "source": [
    "best_param"
   ]
  },
  {
   "cell_type": "code",
   "execution_count": 11,
   "metadata": {},
   "outputs": [
    {
     "data": {
      "text/plain": [
       "'\\npred_res = {}\\nfor i in labels:\\n    ttrain_y = train_y[i]\\n    ttest_y = test_y[i]\\n    parameters = {\\'C\\':[0.01,0.1,1,10,100],\\'gamma\\':(\\'auto\\',\\'scale\\',0.01,0.1,1,10)}\\n    svc = SVC(kernel=\\'rbf\\',decision_function_shape=\\'ovr\\')\\n    cv = GridSearchCV(svc,parameters,cv=10)\\n    cv.fit(train_x,ttrain_y)\\n    pred_res[i] = cv.predict(test_x)\\n    print(\"model:\",i,\"\\n\",\"best params:\",cv.best_params_)\\n'"
      ]
     },
     "execution_count": 11,
     "metadata": {},
     "output_type": "execute_result"
    }
   ],
   "source": [
    "'''\n",
    "pred_res = {}\n",
    "for i in labels:\n",
    "    ttrain_y = train_y[i]\n",
    "    ttest_y = test_y[i]\n",
    "    parameters = {'C':[0.01,0.1,1,10,100],'gamma':('auto','scale',0.01,0.1,1,10)}\n",
    "    svc = SVC(kernel='rbf',decision_function_shape='ovr')\n",
    "    cv = GridSearchCV(svc,parameters,cv=10)\n",
    "    cv.fit(train_x,ttrain_y)\n",
    "    pred_res[i] = cv.predict(test_x)\n",
    "    print(\"model:\",i,\"\\n\",\"best params:\",cv.best_params_)\n",
    "'''"
   ]
  },
  {
   "cell_type": "code",
   "execution_count": 12,
   "metadata": {},
   "outputs": [
    {
     "data": {
      "text/plain": [
       "'\\npred_res = {}\\nfor i in labels:\\n    ttrain_y = train_y[i]\\n    ttest_y = test_y[i]\\n    parameters = {\\'C\\':[0.01,0.1,1,10,100],\\'gamma\\':(\\'auto\\',\\'scale\\',0.01,0.1,1,10)}\\n    svc = SVC(kernel=\\'rbf\\',decision_function_shape=\\'ovr\\')\\n    cv = GridSearchCV(svc,parameters,cv=10)\\n    cv.fit(train_x,ttrain_y)\\n    pred_res[i] = cv.predict(test_x)\\n    print(\"model:\",i,\"\\n\",\"best params:\",cv.best_params_)\\n'"
      ]
     },
     "execution_count": 12,
     "metadata": {},
     "output_type": "execute_result"
    }
   ],
   "source": [
    "'''\n",
    "pred_res = {}\n",
    "for i in labels:\n",
    "    ttrain_y = train_y[i]\n",
    "    ttest_y = test_y[i]\n",
    "    parameters = {'C':[0.01,0.1,1,10,100],'gamma':('auto','scale',0.01,0.1,1,10)}\n",
    "    svc = SVC(kernel='rbf',decision_function_shape='ovr')\n",
    "    cv = GridSearchCV(svc,parameters,cv=10)\n",
    "    cv.fit(train_x,ttrain_y)\n",
    "    pred_res[i] = cv.predict(test_x)\n",
    "    print(\"model:\",i,\"\\n\",\"best params:\",cv.best_params_)\n",
    "'''"
   ]
  },
  {
   "cell_type": "code",
   "execution_count": 13,
   "metadata": {},
   "outputs": [],
   "source": [
    "#em,hl = scores(test_y.values,pd.DataFrame(pred_res).values)\n",
    "#print('exact matching rate is:',em,'hamming loss is:',hl)"
   ]
  },
  {
   "cell_type": "markdown",
   "metadata": {},
   "source": [
    "The best weights of SVM penalty and the width of the Gaussian Kernel are:\n",
    "\n",
    "||weight of SVM panalty|Width of Gaussian Kernel|\n",
    "|------|----------------------|-----------------------|\n",
    "|Family|10|auto|\n",
    "|Genus|10|auto|\n",
    "|Species|10|auto|\n",
    "\n",
    "in which, 'auto' means $\\frac{1}{n_{features}}$, which is 0.043 in this dataset."
   ]
  },
  {
   "cell_type": "markdown",
   "metadata": {},
   "source": [
    "The exact matching rate is 1, and the hamming loss is 0."
   ]
  },
  {
   "cell_type": "markdown",
   "metadata": {},
   "source": [
    "iii. Repeat 1(b)ii with L1-penalized SVMs. Remember to standardize the attributes. Determine the weight of the SVM penalty using 10 fold cross validation."
   ]
  },
  {
   "cell_type": "code",
   "execution_count": 14,
   "metadata": {},
   "outputs": [
    {
     "name": "stdout",
     "output_type": "stream",
     "text": [
      "exact matching rate is: 0.9453 hamming loss is: 0.0336\n"
     ]
    }
   ],
   "source": [
    "\n",
    "kf = KFold(10,shuffle=False)\n",
    "tmp = {}\n",
    "for train_index, test_index in kf.split(train_x):\n",
    "    cv_train, cv_test = train_x.loc[train_index], train_x.loc[test_index]\n",
    "    cvy_train, cvy_test = train_y.loc[train_index], train_y.loc[test_index]\n",
    "    for l in labels:\n",
    "        tmp[l] = tmp.get(l,{})\n",
    "        ttrain_y = cvy_train[l]\n",
    "        ttest_y = cvy_test[l]\n",
    "        C = [0.01,0.1,1,10,100,1000,10000]\n",
    "        for i in C:\n",
    "            tmp[l][i] = tmp[l].get(i,[])\n",
    "            lsvc = LinearSVC(penalty='l1',dual=False,C=i)\n",
    "            ovr = OneVsOneClassifier(lsvc)\n",
    "            ovr.fit(cv_train,ttrain_y)\n",
    "            pred_test = ovr.predict(cv_test)\n",
    "            s = accuracy_score(np.array(ttest_y),np.array(pred_test))\n",
    "            tmp[l][i].append(s)\n",
    "best_param2 = {}\n",
    "for i in tmp:\n",
    "    best_param2[i] = sorted(tmp[i].items(),key=lambda x: np.mean(x[1]),reverse=True)[0][0]\n",
    "pred_res2 = {}\n",
    "for i in best_param2:\n",
    "    ttrain_y = train_y[i]\n",
    "    ttest_y = test_y[i]\n",
    "    lsvc = LinearSVC(penalty='l1',dual=False,C=best_param2[i]).fit(train_x,ttrain_y)\n",
    "    pred_res2[i] = lsvc.predict(test_x)\n",
    "em2,hl2 = scores(test_y.values,pd.DataFrame(pred_res2).values)\n",
    "print('exact matching rate is:',round(em2,4),'hamming loss is:',round(hl2,4))"
   ]
  },
  {
   "cell_type": "code",
   "execution_count": 15,
   "metadata": {},
   "outputs": [],
   "source": [
    "for i in tmp:\n",
    "    for j in tmp[i]:\n",
    "        tmp[i][j] = np.mean(tmp[i][j])"
   ]
  },
  {
   "cell_type": "code",
   "execution_count": 16,
   "metadata": {},
   "outputs": [
    {
     "data": {
      "text/plain": [
       "{'Family': 10, 'Genus': 10, 'Species': 10}"
      ]
     },
     "execution_count": 16,
     "metadata": {},
     "output_type": "execute_result"
    }
   ],
   "source": [
    "best_param2"
   ]
  },
  {
   "cell_type": "code",
   "execution_count": 17,
   "metadata": {},
   "outputs": [
    {
     "data": {
      "text/plain": [
       "'\\npred_res2 = {}\\nfor i in labels:\\n    ttrain_y = train_y[i]\\n    ttest_y = test_y[i]\\n    parameters = {\\'C\\':[0.01,0.1,1,10,100,1000,10000]}\\n    lsvc = LinearSVC(penalty=\\'l1\\',dual=False)\\n    cv = GridSearchCV(lsvc,parameters,cv=10)\\n    cv.fit(train_x,ttrain_y)\\n    pred_res2[i] = cv.predict(test_x)\\n    print(\"model:\",i,\"\\n\",\"best params:\",cv.best_params_)\\n'"
      ]
     },
     "execution_count": 17,
     "metadata": {},
     "output_type": "execute_result"
    }
   ],
   "source": [
    "'''\n",
    "pred_res2 = {}\n",
    "for i in labels:\n",
    "    ttrain_y = train_y[i]\n",
    "    ttest_y = test_y[i]\n",
    "    parameters = {'C':[0.01,0.1,1,10,100,1000,10000]}\n",
    "    lsvc = LinearSVC(penalty='l1',dual=False)\n",
    "    cv = GridSearchCV(lsvc,parameters,cv=10)\n",
    "    cv.fit(train_x,ttrain_y)\n",
    "    pred_res2[i] = cv.predict(test_x)\n",
    "    print(\"model:\",i,\"\\n\",\"best params:\",cv.best_params_)\n",
    "'''"
   ]
  },
  {
   "cell_type": "code",
   "execution_count": 18,
   "metadata": {},
   "outputs": [],
   "source": [
    "#em2,hl2 = scores(test_y.values,pd.DataFrame(pred_res2).values)\n",
    "#print('exact matching rate is:',round(em2,2),'hamming loss is:',round(hl2,2))"
   ]
  },
  {
   "cell_type": "markdown",
   "metadata": {},
   "source": [
    "The best weights of the SVM penalty are:\n",
    "||weight of SVM panalty|\n",
    "|------|----------------------|\n",
    "|Family|10|\n",
    "|Genus|1|\n",
    "|Species|1|\n",
    "\n",
    "The exact matching rate is 0.95, and the hamming loss is 0.03."
   ]
  },
  {
   "cell_type": "markdown",
   "metadata": {},
   "source": [
    "\n",
    "iv. Repeat 1(b)iii by using SMOTE or any other method you know to remedy class imbalance. Report your conclusions about the classi ers you trained."
   ]
  },
  {
   "cell_type": "markdown",
   "metadata": {},
   "source": [
    "Give classes different weights to remedy the class imbalance."
   ]
  },
  {
   "cell_type": "code",
   "execution_count": 19,
   "metadata": {},
   "outputs": [
    {
     "name": "stdout",
     "output_type": "stream",
     "text": [
      "exact matching rate is: 0.999536822603057 hamming loss is: 0.00023158869847150765\n"
     ]
    }
   ],
   "source": [
    "\n",
    "kf = KFold(10,shuffle=False)\n",
    "tmp = {}\n",
    "for train_index, test_index in kf.split(train_x,train_y):\n",
    "    cv_train, cv_test = train_x.loc[train_index], train_x.loc[test_index]\n",
    "    cvy_train, cvy_test = train_y.loc[train_index], train_y.loc[test_index]\n",
    "    for l in labels:\n",
    "        tmp[l] = tmp.get(l,{})\n",
    "        ttrain_y = cvy_train[l]\n",
    "        ttest_y = cvy_test[l]\n",
    "        C = [0.01,0.1,1,10,100]\n",
    "        gamma = ['auto','scale',0.01,0.1,1,10]\n",
    "        for i in C:\n",
    "            for j in gamma:\n",
    "                tmp[l][(i,j)] = tmp[l].get((i,j),[])\n",
    "                svc = SVC(kernel='rbf',C=i,gamma=j,class_weight='balanced')\n",
    "                ovr = OneVsOneClassifier(svc)\n",
    "                ovr.fit(cv_train,ttrain_y)\n",
    "                pred_test = ovr.predict(cv_test)\n",
    "                s = accuracy_score(np.array(ttest_y),np.array(pred_test))\n",
    "                tmp[l][(i,j)].append(s)\n",
    "best_param3 = {}\n",
    "for i in tmp:\n",
    "    best_param3[i] = sorted(tmp[i].items(),key=lambda x: np.mean(x[1]),reverse=True)[0][0]\n",
    "pred_res3 = {}\n",
    "for i in best_param3:\n",
    "    ttrain_y = train_y[i]\n",
    "    ttest_y = test_y[i]\n",
    "    svc = SVC(kernel='rbf',C=best_param3[i][0],gamma=best_param3[i][1],class_weight='balanced').fit(train_x,ttrain_y)\n",
    "    pred_res3[i] = svc.predict(test_x)\n",
    "em,hl = scores(test_y.values,pd.DataFrame(pred_res3).values)\n",
    "print('exact matching rate is:',em,'hamming loss is:',hl)"
   ]
  },
  {
   "cell_type": "code",
   "execution_count": 20,
   "metadata": {},
   "outputs": [
    {
     "data": {
      "text/plain": [
       "{'Family': (1, 0.1), 'Genus': (1, 'auto'), 'Species': (1, 'auto')}"
      ]
     },
     "execution_count": 20,
     "metadata": {},
     "output_type": "execute_result"
    }
   ],
   "source": [
    "best_param3"
   ]
  },
  {
   "cell_type": "code",
   "execution_count": 21,
   "metadata": {},
   "outputs": [
    {
     "data": {
      "text/plain": [
       "'\\npred_res3 = {}\\nfor i in labels:\\n    ttrain_y = train_y[i]\\n    ttest_y = test_y[i]\\n    parameters = {\\'C\\':[0.01,0.1,1,10,100],\\'gamma\\':(\\'auto\\',\\'scale\\',0.01,0.1,1,10)}\\n    svc = SVC(kernel=\\'rbf\\',decision_function_shape=\\'ovr\\',class_weight=\\'balanced\\')\\n    cv = GridSearchCV(svc,parameters,cv=10)\\n    cv.fit(train_x,ttrain_y)\\n    pred_res3[i] = cv.predict(test_x)\\n    print(\"model:\",i,\"\\n\",\"best params:\",cv.best_params_)\\n'"
      ]
     },
     "execution_count": 21,
     "metadata": {},
     "output_type": "execute_result"
    }
   ],
   "source": [
    "'''\n",
    "pred_res3 = {}\n",
    "for i in labels:\n",
    "    ttrain_y = train_y[i]\n",
    "    ttest_y = test_y[i]\n",
    "    parameters = {'C':[0.01,0.1,1,10,100],'gamma':('auto','scale',0.01,0.1,1,10)}\n",
    "    svc = SVC(kernel='rbf',decision_function_shape='ovr',class_weight='balanced')\n",
    "    cv = GridSearchCV(svc,parameters,cv=10)\n",
    "    cv.fit(train_x,ttrain_y)\n",
    "    pred_res3[i] = cv.predict(test_x)\n",
    "    print(\"model:\",i,\"\\n\",\"best params:\",cv.best_params_)\n",
    "'''"
   ]
  },
  {
   "cell_type": "code",
   "execution_count": 22,
   "metadata": {},
   "outputs": [],
   "source": [
    "#em3,hl3 = scores(test_y.values,pd.DataFrame(pred_res3).values)\n",
    "#print('exact matching rate is:',round(em3,2),'hamming loss is:',round(hl3,2))"
   ]
  },
  {
   "cell_type": "markdown",
   "metadata": {},
   "source": [
    "The best weights of SVM penalty and the width of the Gaussian Kernel are:\n",
    "\n",
    "||weight of SVM panalty|Width of Gaussian Kernel|\n",
    "|------|----------------------|-----------------------|\n",
    "|Family|10|auto|\n",
    "|Genus|1|0.1|\n",
    "|Species|1|0.1|\n",
    "\n",
    "in which, 'auto' means $\\frac{1}{n_{features}}$, which is 0.043 in this dataset.\n",
    "\n",
    "The exact matching rate is 1, and the hamming loss is 0.\n",
    "\n"
   ]
  },
  {
   "cell_type": "markdown",
   "metadata": {},
   "source": [
    "Q2"
   ]
  },
  {
   "cell_type": "markdown",
   "metadata": {},
   "source": [
    "Monte-Carlo Simulation: Perform the following procedures 50 times, and report the average and standard deviation of the 50 Hamming Distances that you calculate."
   ]
  },
  {
   "cell_type": "code",
   "execution_count": 23,
   "metadata": {},
   "outputs": [],
   "source": [
    "def hammings(res):\n",
    "    distance = 0\n",
    "    for i in range(len(res)):\n",
    "        if res.loc[i]['Family_true'] != res.loc[i]['Family_pred']:\n",
    "            distance += 1\n",
    "        if res.loc[i]['Genus_true'] != res.loc[i]['Genus_pred']:\n",
    "            distance += 1\n",
    "        if res.loc[i]['Species_true'] != res.loc[i]['Species_pred']:\n",
    "            distance += 1\n",
    "    loss = distance/(3*len(res))\n",
    "    score = (3*len(res)-distance)/(3*len(res)+distance)\n",
    "    return {'distance':distance,'score':score,'loss':loss}"
   ]
  },
  {
   "cell_type": "markdown",
   "metadata": {},
   "source": [
    "(a) Use k-means clustering on the whole Anuran Calls (MFCCs) Data Set (do not split the data into train and test, as we are not performing supervised learning in this exercise). Choose k ∈ {1, 2, . . . , 50} automatically based on one of the methods provided in the slides (CH or Gap Statistics or scree plots or Silhouettes) or any other method you know."
   ]
  },
  {
   "cell_type": "markdown",
   "metadata": {},
   "source": [
    "(b) In each cluster, determine which family is the majority by reading the true labels. Repeat for genus and species."
   ]
  },
  {
   "cell_type": "markdown",
   "metadata": {},
   "source": [
    "(c) Now for each cluster you have a majority label triplet (family, genus, species). Calculate the average Hamming distance, Hamming score, and Hamming loss between the true labels and the labels assigned by clusters."
   ]
  },
  {
   "cell_type": "markdown",
   "metadata": {},
   "source": [
    "Ans:\n",
    "THe program choose k automatically based on max CH."
   ]
  },
  {
   "cell_type": "code",
   "execution_count": 24,
   "metadata": {},
   "outputs": [
    {
     "name": "stdout",
     "output_type": "stream",
     "text": [
      "best k: 49\n",
      "{'distance': 3, 'score': 0.999722067815453, 'loss': 0.0001389854065323141}\n",
      "best k: 48\n",
      "{'distance': 3, 'score': 0.999722067815453, 'loss': 0.0001389854065323141}\n",
      "best k: 49\n",
      "{'distance': 84, 'score': 0.9922469887858231, 'loss': 0.003891591382904795}\n",
      "best k: 45\n",
      "{'distance': 3, 'score': 0.999722067815453, 'loss': 0.0001389854065323141}\n",
      "best k: 47\n",
      "{'distance': 39, 'score': 0.996392896781354, 'loss': 0.0018068102849200835}\n",
      "best k: 48\n",
      "{'distance': 84, 'score': 0.9922469887858231, 'loss': 0.003891591382904795}\n",
      "best k: 45\n",
      "{'distance': 84, 'score': 0.9922469887858231, 'loss': 0.003891591382904795}\n",
      "best k: 49\n",
      "{'distance': 39, 'score': 0.996392896781354, 'loss': 0.0018068102849200835}\n",
      "best k: 50\n",
      "{'distance': 39, 'score': 0.996392896781354, 'loss': 0.0018068102849200835}\n",
      "best k: 48\n",
      "{'distance': 48, 'score': 0.9955623353210373, 'loss': 0.0022237665045170257}\n",
      "best k: 45\n",
      "{'distance': 84, 'score': 0.9922469887858231, 'loss': 0.003891591382904795}\n",
      "best k: 50\n",
      "{'distance': 3, 'score': 0.999722067815453, 'loss': 0.0001389854065323141}\n",
      "best k: 50\n",
      "{'distance': 39, 'score': 0.996392896781354, 'loss': 0.0018068102849200835}\n",
      "best k: 49\n",
      "{'distance': 3, 'score': 0.999722067815453, 'loss': 0.0001389854065323141}\n",
      "best k: 45\n",
      "{'distance': 48, 'score': 0.9955623353210373, 'loss': 0.0022237665045170257}\n",
      "best k: 49\n",
      "{'distance': 3, 'score': 0.999722067815453, 'loss': 0.0001389854065323141}\n",
      "best k: 49\n",
      "{'distance': 57, 'score': 0.9947324646520654, 'loss': 0.002640722724113968}\n",
      "best k: 49\n",
      "{'distance': 3, 'score': 0.999722067815453, 'loss': 0.0001389854065323141}\n",
      "best k: 50\n",
      "{'distance': 84, 'score': 0.9922469887858231, 'loss': 0.003891591382904795}\n",
      "best k: 50\n",
      "{'distance': 39, 'score': 0.996392896781354, 'loss': 0.0018068102849200835}\n",
      "best k: 48\n",
      "{'distance': 39, 'score': 0.996392896781354, 'loss': 0.0018068102849200835}\n",
      "best k: 46\n",
      "{'distance': 84, 'score': 0.9922469887858231, 'loss': 0.003891591382904795}\n",
      "best k: 50\n",
      "{'distance': 39, 'score': 0.996392896781354, 'loss': 0.0018068102849200835}\n",
      "best k: 49\n",
      "{'distance': 84, 'score': 0.9922469887858231, 'loss': 0.003891591382904795}\n",
      "best k: 50\n",
      "{'distance': 39, 'score': 0.996392896781354, 'loss': 0.0018068102849200835}\n",
      "best k: 46\n",
      "{'distance': 84, 'score': 0.9922469887858231, 'loss': 0.003891591382904795}\n",
      "best k: 48\n",
      "{'distance': 39, 'score': 0.996392896781354, 'loss': 0.0018068102849200835}\n",
      "best k: 50\n",
      "{'distance': 48, 'score': 0.9955623353210373, 'loss': 0.0022237665045170257}\n",
      "best k: 50\n",
      "{'distance': 84, 'score': 0.9922469887858231, 'loss': 0.003891591382904795}\n",
      "best k: 48\n",
      "{'distance': 84, 'score': 0.9922469887858231, 'loss': 0.003891591382904795}\n",
      "best k: 47\n",
      "{'distance': 48, 'score': 0.9955623353210373, 'loss': 0.0022237665045170257}\n",
      "best k: 50\n",
      "{'distance': 39, 'score': 0.996392896781354, 'loss': 0.0018068102849200835}\n",
      "best k: 45\n",
      "{'distance': 3, 'score': 0.999722067815453, 'loss': 0.0001389854065323141}\n",
      "best k: 49\n",
      "{'distance': 84, 'score': 0.9922469887858231, 'loss': 0.003891591382904795}\n",
      "best k: 46\n",
      "{'distance': 3, 'score': 0.999722067815453, 'loss': 0.0001389854065323141}\n",
      "best k: 49\n",
      "{'distance': 39, 'score': 0.996392896781354, 'loss': 0.0018068102849200835}\n",
      "best k: 50\n",
      "{'distance': 84, 'score': 0.9922469887858231, 'loss': 0.003891591382904795}\n",
      "best k: 47\n",
      "{'distance': 84, 'score': 0.9922469887858231, 'loss': 0.003891591382904795}\n",
      "best k: 50\n",
      "{'distance': 39, 'score': 0.996392896781354, 'loss': 0.0018068102849200835}\n",
      "best k: 49\n",
      "{'distance': 39, 'score': 0.996392896781354, 'loss': 0.0018068102849200835}\n",
      "best k: 48\n",
      "{'distance': 84, 'score': 0.9922469887858231, 'loss': 0.003891591382904795}\n",
      "best k: 45\n",
      "{'distance': 84, 'score': 0.9922469887858231, 'loss': 0.003891591382904795}\n",
      "best k: 48\n",
      "{'distance': 48, 'score': 0.9955623353210373, 'loss': 0.0022237665045170257}\n",
      "best k: 48\n",
      "{'distance': 39, 'score': 0.996392896781354, 'loss': 0.0018068102849200835}\n",
      "best k: 46\n",
      "{'distance': 39, 'score': 0.996392896781354, 'loss': 0.0018068102849200835}\n",
      "best k: 48\n",
      "{'distance': 174, 'score': 0.9840066179511926, 'loss': 0.008061153578874217}\n",
      "best k: 49\n",
      "{'distance': 39, 'score': 0.996392896781354, 'loss': 0.0018068102849200835}\n",
      "best k: 45\n",
      "{'distance': 84, 'score': 0.9922469887858231, 'loss': 0.003891591382904795}\n",
      "best k: 50\n",
      "{'distance': 39, 'score': 0.996392896781354, 'loss': 0.0018068102849200835}\n",
      "best k: 44\n",
      "{'distance': 39, 'score': 0.996392896781354, 'loss': 0.0018068102849200835}\n"
     ]
    }
   ],
   "source": [
    "distance_list = []\n",
    "for i in range(50):\n",
    "    cluster_score = []\n",
    "    for k in range(2,51):\n",
    "        cluster_res = KMeans(n_clusters=k).fit_predict(data)\n",
    "        cluster_score.append(calinski_harabasz_score(data,cluster_res))\n",
    "\n",
    "    print('best k:',np.array(cluster_score).argmax()+2)\n",
    "\n",
    "    labels['class'] = cluster_res\n",
    "    class_pred = labels.groupby('class').apply(pd.DataFrame.mode)\n",
    "    class_pred.index = range(len(class_pred))\n",
    "    class_pred = pd.merge(labels,class_pred,on='class',suffixes=['_true','_pred'])\n",
    "    hamming = hammings(class_pred)\n",
    "    distance_list.append(hamming['distance'])\n",
    "    print(hamming)"
   ]
  },
  {
   "cell_type": "code",
   "execution_count": 25,
   "metadata": {},
   "outputs": [
    {
     "name": "stdout",
     "output_type": "stream",
     "text": [
      "The mean of Monte-Carlo Hamming distance: 50.88\n"
     ]
    }
   ],
   "source": [
    "print('The mean of Monte-Carlo Hamming distance:', round(np.mean(distance_list),2))"
   ]
  },
  {
   "cell_type": "code",
   "execution_count": 26,
   "metadata": {},
   "outputs": [
    {
     "name": "stdout",
     "output_type": "stream",
     "text": [
      "The standard deviation of Monte-Carlo Hamming distance: 33.45\n"
     ]
    }
   ],
   "source": [
    "print('The standard deviation of Monte-Carlo Hamming distance:', round(np.std(distance_list),2))"
   ]
  },
  {
   "cell_type": "markdown",
   "metadata": {},
   "source": [
    "The mean of 50 Hamming distances is 50.88 and the variance is 33.45."
   ]
  },
  {
   "cell_type": "markdown",
   "metadata": {},
   "source": [
    "3. ISLR 12.6.2"
   ]
  },
  {
   "cell_type": "markdown",
   "metadata": {},
   "source": [
    "![1](3_1.jpeg)"
   ]
  },
  {
   "cell_type": "markdown",
   "metadata": {},
   "source": [
    "![2](3_2.jpeg)"
   ]
  },
  {
   "cell_type": "markdown",
   "metadata": {},
   "source": [
    "【reference】\n",
    "1. Sklearn api reference: https://scikit-learn.org/stable/modules/classes.html\n",
    "2. Pandas api reference: https://pandas.pydata.org/pandas-docs/stable/reference/index.html\n",
    "3. GroupBy and select most common value: https://stackoverflow.com/questions/15222754/groupby-pandas-dataframe-and-select-most-common-value\n",
    "4. Hamming score/loss: https://stackoverflow.com/questions/32239577/getting-the-accuracy-for-multi-label-prediction-in-scikit-learn\n"
   ]
  }
 ],
 "metadata": {
  "interpreter": {
   "hash": "066cf0ab69d75ca3530cdce1f2208243636736d63d7695bd8d7fe2fbd9405541"
  },
  "kernelspec": {
   "display_name": "Python 3.9.6 ('base')",
   "language": "python",
   "name": "python3"
  },
  "language_info": {
   "codemirror_mode": {
    "name": "ipython",
    "version": 3
   },
   "file_extension": ".py",
   "mimetype": "text/x-python",
   "name": "python",
   "nbconvert_exporter": "python",
   "pygments_lexer": "ipython3",
   "version": "3.9.6"
  },
  "orig_nbformat": 4
 },
 "nbformat": 4,
 "nbformat_minor": 2
}
